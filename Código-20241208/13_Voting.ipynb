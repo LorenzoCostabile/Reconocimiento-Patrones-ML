{
 "cells": [
  {
   "cell_type": "markdown",
   "id": "30d65d98-2239-43fc-badd-94287478455a",
   "metadata": {},
   "source": [
    "# Combinación de clasificadores mediante votación\n",
    "\n",
    "---\n",
    "    [ES] Código de Alfredo Cuesta Infante para 'Reconocimiento de Patrones'\n",
    "       @ Master Universitario en Visión Artificial, 2023, URJC (España)\n",
    "    [EN] Code by Alfredo Cuesta-Infante for 'Pattern Recognition'\n",
    "       @ Master of Computer Vision, 2023, URJC (Spain)\n",
    "\n",
    "    alfredo.cuesta@urjc.es"
   ]
  },
  {
   "cell_type": "markdown",
   "id": "21a1d45a-a1da-4a90-a18b-c5f3ab770c40",
   "metadata": {
    "tags": []
   },
   "source": [
    "## Imports & carga de datos"
   ]
  },
  {
   "cell_type": "code",
   "execution_count": 1,
   "id": "3f504b67-7ebd-45c7-862f-46a42d6a7d9f",
   "metadata": {},
   "outputs": [],
   "source": [
    "import numpy as np\n",
    "import pandas as pd\n",
    "from sklearn.decomposition import PCA\n",
    "from sklearn.model_selection import train_test_split\n",
    "from sklearn.preprocessing import StandardScaler, MinMaxScaler, PolynomialFeatures\n",
    "from sklearn.manifold import LocallyLinearEmbedding, Isomap, TSNE\n",
    "from sklearn.pipeline import FeatureUnion, Pipeline\n",
    "from sklearn.preprocessing import FunctionTransformer\n",
    "from sklearn.base import BaseEstimator, TransformerMixin\n",
    "from sklearn.linear_model import LinearRegression, LogisticRegression, Perceptron\n",
    "from sklearn.svm import LinearSVC, NuSVC, LinearSVR, NuSVR, SVC\n",
    "from sklearn.tree import DecisionTreeClassifier, plot_tree\n",
    "from sklearn.naive_bayes import GaussianNB\n",
    "from sklearn.ensemble import AdaBoostClassifier, BaggingClassifier, RandomForestClassifier, VotingClassifier\n",
    "from sklearn.metrics import confusion_matrix, precision_recall_curve, roc_curve\n",
    "import matplotlib.pyplot as plt\n",
    "\n",
    "#########################################################################\n",
    "\n",
    "pathStr = \"../datasets/0vs1/\"\n",
    "[file_X, file_Y] = [pathStr+'setX_0vs1.csv', pathStr+'setY_0vs1.csv']\n",
    "X_init = pd.read_csv(file_X, sep=';', header=None, dtype=int)\n",
    "Y_init = pd.read_csv(file_Y, sep=';', header=None, dtype=int)\n",
    "\n",
    "X_train_init, X_test_init, Y_train_init, Y_test_init = train_test_split(X_init, Y_init, test_size=0.33, random_state=1234)"
   ]
  },
  {
   "cell_type": "markdown",
   "id": "b86c31c2-6fdb-4f41-a50e-39f78d38a527",
   "metadata": {},
   "source": [
    "## Pipeline de transformación de datos"
   ]
  },
  {
   "cell_type": "markdown",
   "id": "eca8488d-6fc5-4647-9049-da921723b6ca",
   "metadata": {
    "jp-MarkdownHeadingCollapsed": true,
    "tags": []
   },
   "source": [
    "### Clases para empaquetar transformadores de datos"
   ]
  },
  {
   "cell_type": "code",
   "execution_count": 2,
   "id": "e2a02d5f-ba96-46eb-9df8-ba894269cf6b",
   "metadata": {},
   "outputs": [],
   "source": [
    "class Pixels_to_Unit(BaseEstimator, TransformerMixin):\n",
    "    def __init__(self):\n",
    "        pass\n",
    "\n",
    "    def fit(self, X, y=None):\n",
    "        return self\n",
    "\n",
    "    def transform(self, X):\n",
    "        return X/255.0\n",
    "\n",
    "\n",
    "class ExtractFeaturesTransformer(BaseEstimator, TransformerMixin):\n",
    "    def __init__(self, theta=0.1):\n",
    "        self.theta = theta\n",
    "\n",
    "    def fit(self, X, y=None):\n",
    "        return self # return fun_feat_extract(X, theta = self.theta)\n",
    "\n",
    "    def transform(self, X):\n",
    "        \n",
    "        def fun_feat_extract(data, theta=0.1):\n",
    "            # data: dataframe\n",
    "            # theta: parameter of the feature extraction\n",
    "            #\n",
    "            features = np.zeros([data.shape[0], 8]) #<- allocate memory with zeros\n",
    "            data = data.values.reshape([data.shape[0],28,28]) \n",
    "            #-> axis 0: id of instance, axis 1: width(cols) , axis 2: height(rows)\n",
    "            for k in range(data.shape[0]):\n",
    "                #..current image \n",
    "                x = data[k,:,:]\n",
    "                #--width feature\n",
    "                sum_cols = x.sum(axis=0) #<- axis0 of x, not of data!!\n",
    "                indc = np.argwhere(sum_cols > theta * sum_cols.max())\n",
    "                col_3maxs = np.argsort(sum_cols)[-3:] \n",
    "                features[k,0] = indc[-1] - indc[0]\n",
    "                features[k,1:4] = col_3maxs\n",
    "                #--width feature\n",
    "                sum_rows = x.sum(axis=1) #<- axis1 of x, not of data!!\n",
    "                indr = np.argwhere(sum_rows > theta * sum_rows.max())\n",
    "                features[k,4] = indr[-1] - indr[0]\n",
    "                row_3maxs = np.argsort(sum_rows)[-3:] \n",
    "                features[k,5:8] = row_3maxs\n",
    "            col_names = ['width','W_max1','W_max2','W_max3','height','H_max1','H_max2','H_max3']\n",
    "            return pd.DataFrame(features,columns = col_names)  \n",
    "    \n",
    "        return fun_feat_extract(X, theta = self.theta)   \n",
    "#---------------------------------------------------------------------------------------\n",
    "\n",
    "class FeatureAreaTransformer(BaseEstimator, TransformerMixin):\n",
    "    def __init__(self):\n",
    "        pass\n",
    "\n",
    "    def fit(self, X, y=None):\n",
    "        return self # return get_feat_area(X)\n",
    "\n",
    "    def transform(self, X):\n",
    "        \n",
    "        def get_feat_area(features):\n",
    "            values = features['width'] * features['height']\n",
    "            return pd.DataFrame({'area':values})\n",
    "        \n",
    "        return get_feat_area(X)\n",
    "    \n",
    "#---------------------------------------------------------------------------------------\n",
    "\n",
    "class FeatureWoverHTransformer(BaseEstimator, TransformerMixin):\n",
    "    def __init__(self):\n",
    "        pass\n",
    "\n",
    "    def fit(self, X, y=None):\n",
    "        return self # return get_feat_WoverH(X)\n",
    "\n",
    "    def transform(self, X):\n",
    "\n",
    "        def get_feat_WoverH(features):\n",
    "            values = features['width'] / features['height']\n",
    "            values = values.round(decimals=2)\n",
    "            return pd.DataFrame({'WoverH':values})  \n",
    "\n",
    "        return get_feat_WoverH(X) "
   ]
  },
  {
   "cell_type": "markdown",
   "id": "2cece55f-2fd5-4111-8cb0-a8d4263b78ed",
   "metadata": {
    "jp-MarkdownHeadingCollapsed": true,
    "tags": []
   },
   "source": [
    "### Pipeline de transformación"
   ]
  },
  {
   "cell_type": "code",
   "execution_count": 3,
   "id": "c1576e87-50cf-4534-bb55-20cf721d900a",
   "metadata": {},
   "outputs": [],
   "source": [
    "preprocess = []    #--------------\n",
    "\n",
    "scaler1 = Pixels_to_Unit()\n",
    "preprocess.append(('scaler1', scaler1))\n",
    "\n",
    "theta = 0.05 #<-it ranges in [0,.5]\n",
    "extractor = ExtractFeaturesTransformer(theta=theta)\n",
    "preprocess.append( ('extractor', extractor) )\n",
    "pipe1 = Pipeline(preprocess)\n",
    "\n",
    "more_features = [] #--------------\n",
    "\n",
    "poly_degree = 2\n",
    "polyfeat = PolynomialFeatures(poly_degree).set_output(transform=\"pandas\")\n",
    "more_features.append( ('addPolyFeat', polyfeat) )\n",
    "              \n",
    "more_features.append( ('addArea', FeatureAreaTransformer()) )\n",
    "\n",
    "more_features.append( ('addWoverH', FeatureWoverHTransformer()) )\n",
    "\n",
    "pipe2 = FeatureUnion(more_features)\n",
    "\n",
    "LLEprocess = []  #--------------\n",
    "\n",
    "n_components = 2\n",
    "n_neighbors = 50\n",
    "random_state = 1234\n",
    "max_iter = 200\n",
    "LLEprocess.append((\n",
    "    'lle',\n",
    "     LocallyLinearEmbedding(n_neighbors=n_neighbors, n_components=n_components,\n",
    "                            max_iter=max_iter, random_state=random_state).set_output(transform='pandas') )\n",
    ")\n",
    "\n",
    "scaler2 = MinMaxScaler().set_output(transform='pandas')\n",
    "LLEprocess.append( ('scaler2', scaler2) )\n",
    "\n",
    "pipe3 = Pipeline(LLEprocess)\n",
    "\n",
    "pipe_Data = Pipeline([('pipe1',pipe1),('pipe2',pipe2),('pipe3',pipe3)])"
   ]
  },
  {
   "cell_type": "markdown",
   "id": "24154043-9e46-43ce-bc3e-04f050e0268c",
   "metadata": {
    "jp-MarkdownHeadingCollapsed": true,
    "tags": []
   },
   "source": [
    "### Aprendizaje de la transformación"
   ]
  },
  {
   "cell_type": "code",
   "execution_count": 4,
   "id": "75f3ac98-339b-40e3-b746-359db80dc404",
   "metadata": {},
   "outputs": [],
   "source": [
    "pipe_Data.fit(X_train_init)\n",
    "X_train_2D = pipe_Data.transform(X_train_init)"
   ]
  },
  {
   "cell_type": "markdown",
   "id": "2edf5334-6e48-4bbd-8729-aafb9b486d24",
   "metadata": {
    "jp-MarkdownHeadingCollapsed": true,
    "tags": []
   },
   "source": [
    "## Pipeline del modelo"
   ]
  },
  {
   "cell_type": "code",
   "execution_count": 5,
   "id": "9af11c44-9b4d-4d5d-a960-20e03caf9bc3",
   "metadata": {},
   "outputs": [],
   "source": [
    "voting_system = 'soft' #<-- choices are 'soft' , 'hard'\n",
    "\n",
    "lin_clf  = LogisticRegression()\n",
    "svm_clf  = SVC(kernel='rbf', degree=3, C=2, probability=True)\n",
    "tree_clf = DecisionTreeClassifier(max_depth=9)\n",
    "nbc_clf  = GaussianNB()\n",
    "\n",
    "voting_clf = VotingClassifier(\n",
    "    estimators=[('lin', lin_clf),  ('svc', svm_clf), ('tree', tree_clf), ('nbc',nbc_clf)],\n",
    "    voting=voting_system)\n",
    "\n",
    "pipe_Clf = Pipeline([('voting_clf', voting_clf)])"
   ]
  },
  {
   "cell_type": "code",
   "execution_count": 6,
   "id": "97aa18c1-2486-4f12-a9c3-a5718b41929e",
   "metadata": {},
   "outputs": [
    {
     "name": "stdout",
     "output_type": "stream",
     "text": [
      "Pipeline(steps=[('voting_clf',\n",
      "                 VotingClassifier(estimators=[('lin', LogisticRegression()),\n",
      "                                              ('svc',\n",
      "                                               SVC(C=2, probability=True)),\n",
      "                                              ('tree',\n",
      "                                               DecisionTreeClassifier(max_depth=9)),\n",
      "                                              ('nbc', GaussianNB())],\n",
      "                                  voting='soft'))])\n"
     ]
    }
   ],
   "source": [
    "print(pipe_Clf)\n"
   ]
  },
  {
   "cell_type": "code",
   "execution_count": 7,
   "id": "c4d094ba-33d0-4aa9-b537-a848824a0966",
   "metadata": {},
   "outputs": [
    {
     "name": "stderr",
     "output_type": "stream",
     "text": [
      "C:\\Users\\alfredo.cuesta\\AppData\\Roaming\\Python\\Python39\\site-packages\\sklearn\\preprocessing\\_label.py:97: DataConversionWarning: A column-vector y was passed when a 1d array was expected. Please change the shape of y to (n_samples, ), for example using ravel().\n",
      "  y = column_or_1d(y, warn=True)\n",
      "C:\\Users\\alfredo.cuesta\\AppData\\Roaming\\Python\\Python39\\site-packages\\sklearn\\preprocessing\\_label.py:132: DataConversionWarning: A column-vector y was passed when a 1d array was expected. Please change the shape of y to (n_samples, ), for example using ravel().\n",
      "  y = column_or_1d(y, dtype=self.classes_.dtype, warn=True)\n"
     ]
    }
   ],
   "source": [
    "pipe_Clf.fit(X_train_2D, Y_train_init)\n",
    "y_hat= pipe_Clf.predict(X_train_2D)"
   ]
  },
  {
   "cell_type": "markdown",
   "id": "c1e8936b-f598-45eb-90bd-a6d35cf8b366",
   "metadata": {
    "jp-MarkdownHeadingCollapsed": true,
    "tags": []
   },
   "source": [
    "## Visualización"
   ]
  },
  {
   "cell_type": "code",
   "execution_count": 8,
   "id": "d210ca9a-4127-4c6b-9b5b-00a31b864599",
   "metadata": {
    "tags": []
   },
   "outputs": [
    {
     "name": "stderr",
     "output_type": "stream",
     "text": [
      "C:\\Users\\alfredo.cuesta\\AppData\\Roaming\\Python\\Python39\\site-packages\\sklearn\\base.py:464: UserWarning: X does not have valid feature names, but LogisticRegression was fitted with feature names\n",
      "  warnings.warn(\n",
      "C:\\Users\\alfredo.cuesta\\AppData\\Roaming\\Python\\Python39\\site-packages\\sklearn\\base.py:464: UserWarning: X does not have valid feature names, but SVC was fitted with feature names\n",
      "  warnings.warn(\n",
      "C:\\Users\\alfredo.cuesta\\AppData\\Roaming\\Python\\Python39\\site-packages\\sklearn\\base.py:464: UserWarning: X does not have valid feature names, but DecisionTreeClassifier was fitted with feature names\n",
      "  warnings.warn(\n",
      "C:\\Users\\alfredo.cuesta\\AppData\\Roaming\\Python\\Python39\\site-packages\\sklearn\\base.py:464: UserWarning: X does not have valid feature names, but GaussianNB was fitted with feature names\n",
      "  warnings.warn(\n"
     ]
    },
    {
     "data": {
      "image/png": "[encoded data removed]",
      "text/plain": [
       "<Figure size 432x288 with 1 Axes>"
      ]
     },
     "metadata": {
      "needs_background": "light"
     },
     "output_type": "display_data"
    },
    {
     "name": "stdout",
     "output_type": "stream",
     "text": [
      "Confusion matrix:\n",
      "      0    1\n",
      "0  264   35\n",
      "1   31  340\n"
     ]
    }
   ],
   "source": [
    "ind0 = Y_train_init.isin([0]).values.ravel()\n",
    "ind1 = Y_train_init.isin([1]).values.ravel()\n",
    "ax = X_train_2D[ind0].plot(kind=\"scatter\", x=\"locallylinearembedding0\",y=\"locallylinearembedding1\",\n",
    "                           alpha=0.5, color='b',marker='o')\n",
    "ax = X_train_2D[ind1].plot(kind=\"scatter\", x=\"locallylinearembedding0\",y=\"locallylinearembedding1\",\n",
    "                           alpha=0.5, color='r',marker='x', ax=ax)\n",
    "\n",
    "Ns = 50\n",
    "rangeX0 = np.linspace(0, 1, Ns)\n",
    "rangeX1 = np.linspace(0, 1, Ns)\n",
    "[XX0, XX1] = np.meshgrid(rangeX0, rangeX1)\n",
    "X0 = np.expand_dims(XX0.ravel(), axis=0)\n",
    "X1 = np.expand_dims(XX1.ravel(), axis=0)\n",
    "X = np.vstack((X0,X1))\n",
    "y_backg = pipe_Clf.predict(X.T).reshape(Ns,Ns)\n",
    "ax.imshow(y_backg, extent=[0,1,0,1], alpha=0.2, origin='lower', cmap='cool')\n",
    "strTitle = \"Votación %s\"%voting_system\n",
    "ax.set_title(strTitle)\n",
    "plt.rcParams['figure.figsize'] = [6,6]\n",
    "plt.show()\n",
    "print('Confusion matrix:\\n',pd.DataFrame(confusion_matrix(Y_train_init, y_hat)))"
   ]
  },
  {
   "cell_type": "code",
   "execution_count": null,
   "id": "2e623ab1-585f-4298-be1a-96214ec8b2af",
   "metadata": {},
   "outputs": [],
   "source": []
  },
  {
   "cell_type": "code",
   "execution_count": null,
   "id": "b3cd2c2b-7d46-49a2-b4eb-ab74a4dfed83",
   "metadata": {},
   "outputs": [],
   "source": []
  }
 ],
 "metadata": {
  "kernelspec": {
   "display_name": "Python 3 (ipykernel)",
   "language": "python",
   "name": "python3"
  },
  "language_info": {
   "codemirror_mode": {
    "name": "ipython",
    "version": 3
   },
   "file_extension": ".py",
   "mimetype": "text/x-python",
   "name": "python",
   "nbconvert_exporter": "python",
   "pygments_lexer": "ipython3",
   "version": "3.9.7"
  }
 },
 "nbformat": 4,
 "nbformat_minor": 5
}
