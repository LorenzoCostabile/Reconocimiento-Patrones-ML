{
 "cells": [
  {
   "cell_type": "markdown",
   "metadata": {
    "pycharm": {
     "name": "#%% md\n"
    },
    "tags": []
   },
   "source": [
    "# Extracción e ingeniería de características\n",
    "\n",
    "En este cuaderno vamos a extraer dos características sencillas de los conjuntos de datos <code>setX_0vs1.csv</code>: la \"anchura\" y la \"altura\" de la cifra que se ve en una imagen que podemos seleccionar.\n",
    "\n",
    "Después crearemos dos más a partir de ellas mediante ingeniería de características.\n",
    "\n",
    "A continuación utilizaremos funciones predefinidas en scikit-learn para crear características.\n",
    "\n",
    "Finalmente compararemos códigos buscando las diferencias más importantes.\n",
    "\n",
    "---\n",
    "    [ES] Código de Alfredo Cuesta Infante para 'Reconocimiento de Patrones'\n",
    "       @ Master Universitario en Visión Artificial, 2024, URJC (España)\n",
    "    [EN] Code by Alfredo Cuesta-Infante for 'Pattern Recognition'\n",
    "       @ Master of Computer Vision, 2024, URJC (Spain)\n",
    "\n",
    "    alfredo.cuesta@urjc.es"
   ]
  },
  {
   "cell_type": "markdown",
   "metadata": {
    "jp-MarkdownHeadingCollapsed": true,
    "pycharm": {
     "name": "#%% md\n"
    },
    "tags": [],
    "toc-hr-collapsed": true
   },
   "source": [
    "## Cuaderno"
   ]
  },
  {
   "cell_type": "markdown",
   "metadata": {
    "jp-MarkdownHeadingCollapsed": true,
    "pycharm": {
     "name": "#%% md\n"
    },
    "tags": []
   },
   "source": [
    "### Imports"
   ]
  },
  {
   "cell_type": "code",
   "execution_count": 1,
   "metadata": {
    "pycharm": {
     "name": "#%%\n"
    }
   },
   "outputs": [],
   "source": [
    "import numpy  as np\n",
    "import pandas as pd\n",
    "from matplotlib import pyplot as plt"
   ]
  },
  {
   "cell_type": "markdown",
   "metadata": {
    "pycharm": {
     "name": "#%% md\n"
    },
    "tags": []
   },
   "source": [
    "### Cargar datos\n",
    "Utilizaremos el conjunto de imágenes <code>setX_0vs1.csv</code>.<br>\n",
    "Las etiquetas <code>setY_0vs1.csv</code> de momento no las necesitamos"
   ]
  },
  {
   "cell_type": "code",
   "execution_count": 2,
   "metadata": {
    "collapsed": false,
    "jupyter": {
     "outputs_hidden": false
    },
    "pycharm": {
     "name": "#%%\n"
    }
   },
   "outputs": [
    {
     "name": "stdout",
     "output_type": "stream",
     "text": [
      "The size of X is  (1000, 784)\n",
      "The size of Y is  (1000, 1)\n"
     ]
    }
   ],
   "source": [
    "pathStr = \"../datasets/0vs1/\"\n",
    "[file_X, file_Y] = [pathStr+'setX_0vs1.csv', pathStr+'setY_0vs1.csv']\n",
    "initial_X = pd.read_csv(file_X, sep=';', header=None, dtype=int)\n",
    "Y = pd.read_csv(file_Y, sep=';', header=None, dtype=int)\n",
    "\n",
    "##--- print out the size of the data set\n",
    "print ('The size of X is ',initial_X.shape)\n",
    "print ('The size of Y is ',Y.shape)"
   ]
  },
  {
   "cell_type": "markdown",
   "metadata": {
    "jp-MarkdownHeadingCollapsed": true,
    "pycharm": {
     "name": "#%% md\n"
    },
    "tags": []
   },
   "source": [
    "### Reescalar la intensidad de los píxeles a [0,1]"
   ]
  },
  {
   "cell_type": "code",
   "execution_count": 3,
   "metadata": {
    "collapsed": false,
    "jupyter": {
     "outputs_hidden": false
    },
    "pycharm": {
     "name": "#%%\n"
    }
   },
   "outputs": [],
   "source": [
    "X = initial_X.astype(float)/255.0"
   ]
  },
  {
   "cell_type": "code",
   "execution_count": 4,
   "metadata": {
    "collapsed": false,
    "jupyter": {
     "outputs_hidden": false
    },
    "pycharm": {
     "name": "#%%\n"
    }
   },
   "outputs": [
    {
     "name": "stdout",
     "output_type": "stream",
     "text": [
      "X shape is  (1000, 784)\n",
      "Y shape is  (1000, 1)\n"
     ]
    }
   ],
   "source": [
    "''' Print out the size of the given data'''\n",
    "print(\"X shape is \", X.shape)\n",
    "print(\"Y shape is \", Y.shape)"
   ]
  },
  {
   "cell_type": "markdown",
   "metadata": {
    "jp-MarkdownHeadingCollapsed": true,
    "pycharm": {
     "name": "#%% md\n"
    },
    "tags": []
   },
   "source": [
    "### Extracción de características\n",
    "**Altura y Anchura de la cifra**"
   ]
  },
  {
   "cell_type": "markdown",
   "metadata": {
    "pycharm": {
     "name": "#%% md\n"
    }
   },
   "source": [
    "Vamos a crear **dos características** (*features*) a partir de los píxeles **de una imagen** que elegiremos con la variable <code>selection</code>\n",
    "\n",
    "Las dos características que vamos a calcular son la **anchura** y **altura** de la imagen.<br>\n",
    "Para ello en primer lugar se deben sumar las intensidades en la dirección del eje 0 (proyección en el eje horizontal) y del eje 1 (proyección en el eje vertical) <br>\n",
    "$\\rightarrow$ Se obtiene un array de 28 elementos por cada eje\n",
    "+ La *anchura* = número de columnas entre la primera y la última que tienen más de un $\\theta$ % del máximo valor en el array.\n",
    "+ La *altura*  = número de filas entre la primera y la última que tienen más de un $\\theta$ % del máximo valor en el array.<br>\n",
    "\n",
    "$\\theta$  = <code>theta</code> es otra variable que podemos decidir.\n",
    "\n",
    "El resultado se almacena en el dataframe <code>features_df</code> con dos columnas: <code>width</code> y <code>height</code>"
   ]
  },
  {
   "cell_type": "code",
   "execution_count": 25,
   "metadata": {
    "collapsed": false,
    "jupyter": {
     "outputs_hidden": false
    },
    "pycharm": {
     "name": "#%%\n"
    }
   },
   "outputs": [],
   "source": [
    "def get_feat_width(x, theta):\n",
    "    #--width feature\n",
    "    sum_cols = x.sum(axis=0)\n",
    "    indc = np.argwhere(sum_cols > theta * sum_cols.max())\n",
    "    width = indc[-1] - indc[0]    \n",
    "    return width, sum_cols, indc\n",
    "\n",
    "def get_feat_height(x, theta):\n",
    "    #--height feature\n",
    "    sum_rows = x.sum(axis=1)\n",
    "    indr = np.argwhere(sum_rows > theta * sum_rows.max())\n",
    "    height = indr[-1] - indr[0]    \n",
    "    return height, sum_rows, indr"
   ]
  },
  {
   "cell_type": "markdown",
   "metadata": {
    "pycharm": {
     "name": "#%% md\n"
    }
   },
   "source": [
    "Aplicamos las funciones que extraen las características a la imagen seleccionada y creamos un dataframe con el resultado."
   ]
  },
  {
   "cell_type": "code",
   "execution_count": 37,
   "metadata": {
    "collapsed": false,
    "jupyter": {
     "outputs_hidden": false
    },
    "pycharm": {
     "name": "#%%\n"
    }
   },
   "outputs": [],
   "source": [
    "sel_image = 24 #<- index of the image selected in the data set\n",
    "theta = 0.3    #<- feature parameter\n",
    "\n",
    "x_sel = X.iloc[sel_image].values.reshape([28,28])\n",
    "width_value, sum_cols, indc  = get_feat_width(x_sel,  theta)\n",
    "height_value, sum_rows, indr = get_feat_height(x_sel, theta)\n",
    "features_df = pd.DataFrame({'width':width_value, 'height':height_value})"
   ]
  },
  {
   "cell_type": "markdown",
   "metadata": {
    "pycharm": {
     "name": "#%% md\n"
    }
   },
   "source": [
    "#### Ver los resultados"
   ]
  },
  {
   "cell_type": "code",
   "execution_count": 38,
   "metadata": {
    "collapsed": false,
    "jupyter": {
     "outputs_hidden": false
    },
    "pycharm": {
     "name": "#%%\n"
    }
   },
   "outputs": [
    {
     "name": "stdout",
     "output_type": "stream",
     "text": [
      "The feature vector of the 24-th image is:\n"
     ]
    },
    {
     "data": {
      "text/html": [
       "<div>\n",
       "<style scoped>\n",
       "    .dataframe tbody tr th:only-of-type {\n",
       "        vertical-align: middle;\n",
       "    }\n",
       "\n",
       "    .dataframe tbody tr th {\n",
       "        vertical-align: top;\n",
       "    }\n",
       "\n",
       "    .dataframe thead th {\n",
       "        text-align: right;\n",
       "    }\n",
       "</style>\n",
       "<table border=\"1\" class=\"dataframe\">\n",
       "  <thead>\n",
       "    <tr style=\"text-align: right;\">\n",
       "      <th></th>\n",
       "      <th>width</th>\n",
       "      <th>height</th>\n",
       "    </tr>\n",
       "  </thead>\n",
       "  <tbody>\n",
       "    <tr>\n",
       "      <th>0</th>\n",
       "      <td>11</td>\n",
       "      <td>19</td>\n",
       "    </tr>\n",
       "  </tbody>\n",
       "</table>\n",
       "</div>"
      ],
      "text/plain": [
       "   width  height\n",
       "0     11      19"
      ]
     },
     "execution_count": 38,
     "metadata": {},
     "output_type": "execute_result"
    }
   ],
   "source": [
    "##------------ Print out the feature vector of the selected image'''\n",
    "print('The feature vector of the %d-th image is:'%sel_image)\n",
    "features_df"
   ]
  },
  {
   "cell_type": "code",
   "execution_count": 39,
   "metadata": {},
   "outputs": [
    {
     "data": {
      "text/plain": [
       "11"
      ]
     },
     "execution_count": 39,
     "metadata": {},
     "output_type": "execute_result"
    }
   ],
   "source": [
    "features_df['width'].values[0]"
   ]
  },
  {
   "cell_type": "code",
   "execution_count": 40,
   "metadata": {
    "collapsed": false,
    "jupyter": {
     "outputs_hidden": false
    },
    "pycharm": {
     "name": "#%%\n"
    }
   },
   "outputs": [
    {
     "data": {
      "image/png": "[encoded data removed]",
      "text/plain": [
       "<Figure size 504x504 with 4 Axes>"
      ]
     },
     "metadata": {
      "needs_background": "light"
     },
     "output_type": "display_data"
    }
   ],
   "source": [
    "##------------ we can visualize and print the two features \n",
    "width  = features_df['width'].values[0]\n",
    "height = features_df['height'].values[0]\n",
    "plt.rcParams['figure.figsize'] = [7,7] #<- this makes the figures larger in Jupyter\n",
    "plt.subplot(221)\n",
    "plt.plot(sum_cols,'.-')\n",
    "plt.plot(indc[[0,-1]],sum_cols[indc[[0,0]]],'r')\n",
    "plt.title('columns -> width')\n",
    "plt.subplot(222)\n",
    "plt.plot(sum_rows,'.-')\n",
    "plt.plot(indr[[0,-1]],sum_rows[indr[[0,0]]],'m')\n",
    "plt.title('rows -> height')\n",
    "plt.subplot(223)\n",
    "plt.imshow(x_sel,cmap='Blues')\n",
    "plt.plot(indc[[0,-1]],sum_cols[indc[[0,0]]],'r')\n",
    "plt.plot(sum_rows[indr[[0,0]]],indr[[0,-1]],'m')\n",
    "plt.title('Input space')\n",
    "plt.subplot(224)\n",
    "eps=0.3\n",
    "plt.plot([0,width],[eps,eps],'r',  linewidth=4)\n",
    "plt.plot([eps,eps],[0,height],'m', linewidth=4)\n",
    "plt.plot(width,height,'o',\n",
    "         [0,width],[height,height],'r:',\n",
    "         [width,width],[0,height],'m:') \n",
    "plt.axis([0,30,0,30])\n",
    "plt.title('Feature space')\n",
    "plt.show()"
   ]
  },
  {
   "cell_type": "markdown",
   "metadata": {
    "jp-MarkdownHeadingCollapsed": true,
    "pycharm": {
     "name": "#%% md\n"
    },
    "tags": []
   },
   "source": [
    "### Ingeniería de características\n",
    "**Área y relación de aspecto $W/H$**"
   ]
  },
  {
   "cell_type": "code",
   "execution_count": 30,
   "metadata": {
    "collapsed": false,
    "jupyter": {
     "outputs_hidden": false
    },
    "pycharm": {
     "name": "#%%\n"
    }
   },
   "outputs": [],
   "source": [
    "def get_feat_area(features):\n",
    "    values = features['width'] * features['height']\n",
    "    return pd.DataFrame({'area':values})\n",
    "\n",
    "def get_feat_WoverH(features):\n",
    "    values = features['width'] / features['height']\n",
    "    return pd.DataFrame({'WoverH':values})"
   ]
  },
  {
   "cell_type": "code",
   "execution_count": 31,
   "metadata": {
    "collapsed": false,
    "jupyter": {
     "outputs_hidden": false
    },
    "pycharm": {
     "name": "#%%\n"
    }
   },
   "outputs": [],
   "source": [
    "area = get_feat_area(features_df)\n",
    "WoverH = get_feat_WoverH(features_df)\n",
    "features_df = pd.concat([features_df, area, WoverH],axis=1)"
   ]
  },
  {
   "cell_type": "markdown",
   "metadata": {
    "pycharm": {
     "name": "#%% md\n"
    }
   },
   "source": [
    "#### Ver los resultados"
   ]
  },
  {
   "cell_type": "code",
   "execution_count": 32,
   "metadata": {
    "collapsed": false,
    "jupyter": {
     "outputs_hidden": false
    },
    "pycharm": {
     "name": "#%%\n"
    }
   },
   "outputs": [
    {
     "data": {
      "text/html": [
       "<div>\n",
       "<style scoped>\n",
       "    .dataframe tbody tr th:only-of-type {\n",
       "        vertical-align: middle;\n",
       "    }\n",
       "\n",
       "    .dataframe tbody tr th {\n",
       "        vertical-align: top;\n",
       "    }\n",
       "\n",
       "    .dataframe thead th {\n",
       "        text-align: right;\n",
       "    }\n",
       "</style>\n",
       "<table border=\"1\" class=\"dataframe\">\n",
       "  <thead>\n",
       "    <tr style=\"text-align: right;\">\n",
       "      <th></th>\n",
       "      <th>width</th>\n",
       "      <th>height</th>\n",
       "      <th>area</th>\n",
       "      <th>WoverH</th>\n",
       "    </tr>\n",
       "  </thead>\n",
       "  <tbody>\n",
       "    <tr>\n",
       "      <th>0</th>\n",
       "      <td>13</td>\n",
       "      <td>19</td>\n",
       "      <td>247</td>\n",
       "      <td>0.684211</td>\n",
       "    </tr>\n",
       "  </tbody>\n",
       "</table>\n",
       "</div>"
      ],
      "text/plain": [
       "   width  height  area    WoverH\n",
       "0     13      19   247  0.684211"
      ]
     },
     "execution_count": 32,
     "metadata": {},
     "output_type": "execute_result"
    }
   ],
   "source": [
    "features_df.head()"
   ]
  },
  {
   "cell_type": "markdown",
   "metadata": {
    "jp-MarkdownHeadingCollapsed": true,
    "pycharm": {
     "name": "#%% md\n"
    },
    "tags": []
   },
   "source": [
    "### Funciones de características habituales\n",
    "En el paquete <code>sklearn.preprocessing</code> se pueden encontrar muchos métodos de preprocesado. <br>\n",
    "Entre ellos ahora destacamos <code>PolynomialFeatures</code> y <code>FunctionTransformer</code>. "
   ]
  },
  {
   "cell_type": "markdown",
   "metadata": {
    "pycharm": {
     "name": "#%% md\n"
    }
   },
   "source": [
    "#### Características polinómicas\n",
    "<code>PolynomialFeatures</code> \n",
    "genera una nueva matriz de características que contiene todas las combinaciones polinómicas con grado menor o igual al grado especificado. <br>\n",
    "Por ejemplo, el ejemplo viene dado por 2 características $[a,b]$, las características polinómicas de grado 2 son $[1, a, b, a^2, ab, b^2]$."
   ]
  },
  {
   "cell_type": "markdown",
   "metadata": {
    "pycharm": {
     "name": "#%% md\n"
    }
   },
   "source": [
    "Vamos a extender el vector de características de la imagen seleccionada: <code>features_df</code>$\\rightarrow$<code>polyfeat_df</code>"
   ]
  },
  {
   "cell_type": "code",
   "execution_count": 33,
   "metadata": {
    "collapsed": false,
    "jupyter": {
     "outputs_hidden": false
    },
    "pycharm": {
     "name": "#%%\n"
    }
   },
   "outputs": [],
   "source": [
    "from sklearn.preprocessing import PolynomialFeatures\n",
    "\n",
    "poly_degree = 2\n",
    "poly = PolynomialFeatures(poly_degree).set_output(transform=\"pandas\") #<- scikit-learn 1.3.0 required\n",
    "poly.fit(features_df)\n",
    "polyfeat_df = poly.transform(features_df)"
   ]
  },
  {
   "cell_type": "code",
   "execution_count": 34,
   "metadata": {
    "collapsed": false,
    "jupyter": {
     "outputs_hidden": false
    },
    "pycharm": {
     "name": "#%%\n"
    }
   },
   "outputs": [
    {
     "data": {
      "text/html": [
       "<div>\n",
       "<style scoped>\n",
       "    .dataframe tbody tr th:only-of-type {\n",
       "        vertical-align: middle;\n",
       "    }\n",
       "\n",
       "    .dataframe tbody tr th {\n",
       "        vertical-align: top;\n",
       "    }\n",
       "\n",
       "    .dataframe thead th {\n",
       "        text-align: right;\n",
       "    }\n",
       "</style>\n",
       "<table border=\"1\" class=\"dataframe\">\n",
       "  <thead>\n",
       "    <tr style=\"text-align: right;\">\n",
       "      <th></th>\n",
       "      <th>1</th>\n",
       "      <th>width</th>\n",
       "      <th>height</th>\n",
       "      <th>area</th>\n",
       "      <th>WoverH</th>\n",
       "      <th>width^2</th>\n",
       "      <th>width height</th>\n",
       "      <th>width area</th>\n",
       "      <th>width WoverH</th>\n",
       "      <th>height^2</th>\n",
       "      <th>height area</th>\n",
       "      <th>height WoverH</th>\n",
       "      <th>area^2</th>\n",
       "      <th>area WoverH</th>\n",
       "      <th>WoverH^2</th>\n",
       "    </tr>\n",
       "  </thead>\n",
       "  <tbody>\n",
       "    <tr>\n",
       "      <th>0</th>\n",
       "      <td>1.0</td>\n",
       "      <td>13.0</td>\n",
       "      <td>19.0</td>\n",
       "      <td>247.0</td>\n",
       "      <td>0.684211</td>\n",
       "      <td>169.0</td>\n",
       "      <td>247.0</td>\n",
       "      <td>3211.0</td>\n",
       "      <td>8.894737</td>\n",
       "      <td>361.0</td>\n",
       "      <td>4693.0</td>\n",
       "      <td>13.0</td>\n",
       "      <td>61009.0</td>\n",
       "      <td>169.0</td>\n",
       "      <td>0.468144</td>\n",
       "    </tr>\n",
       "  </tbody>\n",
       "</table>\n",
       "</div>"
      ],
      "text/plain": [
       "     1  width  height   area    WoverH  width^2  width height  width area  \\\n",
       "0  1.0   13.0    19.0  247.0  0.684211    169.0         247.0      3211.0   \n",
       "\n",
       "   width WoverH  height^2  height area  height WoverH   area^2  area WoverH  \\\n",
       "0      8.894737     361.0       4693.0           13.0  61009.0        169.0   \n",
       "\n",
       "   WoverH^2  \n",
       "0  0.468144  "
      ]
     },
     "execution_count": 34,
     "metadata": {},
     "output_type": "execute_result"
    }
   ],
   "source": [
    "polyfeat_df"
   ]
  },
  {
   "cell_type": "markdown",
   "metadata": {
    "pycharm": {
     "name": "#%% md\n"
    }
   },
   "source": [
    "#### Características mediante funciones arbitrarias\n",
    "<code>FunctionTransformer</code> \n",
    "genera una nueva característica a partir de una función especificada.<br>\n",
    "Por ejemplo, podemos convertir todas las características a su logaritmo en base 10<br>\n",
    " (como estamos usando pandas y log10 es de numpy tendremos un warning pero funciona)"
   ]
  },
  {
   "cell_type": "markdown",
   "metadata": {
    "pycharm": {
     "name": "#%% md\n"
    }
   },
   "source": [
    "Vamos a extender el vector de características de la imagen seleccionada: <code>features_df</code>$\\rightarrow$<code>newfeat_df</code>"
   ]
  },
  {
   "cell_type": "code",
   "execution_count": 35,
   "metadata": {
    "collapsed": false,
    "jupyter": {
     "outputs_hidden": false
    },
    "pycharm": {
     "name": "#%%\n"
    }
   },
   "outputs": [],
   "source": [
    "from sklearn.preprocessing import FunctionTransformer\n",
    "transformer = FunctionTransformer(np.log10).set_output(transform=\"pandas\") #<- scikit-learn 1.3.0 required\n",
    "transformer.fit(features_df)\n",
    "newfeat_df = transformer.transform(features_df)"
   ]
  },
  {
   "cell_type": "code",
   "execution_count": 36,
   "metadata": {
    "collapsed": false,
    "jupyter": {
     "outputs_hidden": false
    },
    "pycharm": {
     "name": "#%%\n"
    }
   },
   "outputs": [
    {
     "data": {
      "text/html": [
       "<div>\n",
       "<style scoped>\n",
       "    .dataframe tbody tr th:only-of-type {\n",
       "        vertical-align: middle;\n",
       "    }\n",
       "\n",
       "    .dataframe tbody tr th {\n",
       "        vertical-align: top;\n",
       "    }\n",
       "\n",
       "    .dataframe thead th {\n",
       "        text-align: right;\n",
       "    }\n",
       "</style>\n",
       "<table border=\"1\" class=\"dataframe\">\n",
       "  <thead>\n",
       "    <tr style=\"text-align: right;\">\n",
       "      <th></th>\n",
       "      <th>width</th>\n",
       "      <th>height</th>\n",
       "      <th>area</th>\n",
       "      <th>WoverH</th>\n",
       "    </tr>\n",
       "  </thead>\n",
       "  <tbody>\n",
       "    <tr>\n",
       "      <th>0</th>\n",
       "      <td>1.113943</td>\n",
       "      <td>1.278754</td>\n",
       "      <td>2.392697</td>\n",
       "      <td>-0.16481</td>\n",
       "    </tr>\n",
       "  </tbody>\n",
       "</table>\n",
       "</div>"
      ],
      "text/plain": [
       "      width    height      area   WoverH\n",
       "0  1.113943  1.278754  2.392697 -0.16481"
      ]
     },
     "execution_count": 36,
     "metadata": {},
     "output_type": "execute_result"
    }
   ],
   "source": [
    "newfeat_df"
   ]
  },
  {
   "cell_type": "markdown",
   "metadata": {
    "jp-MarkdownHeadingCollapsed": true,
    "pycharm": {
     "name": "#%% md\n"
    },
    "tags": [],
    "toc-hr-collapsed": true
   },
   "source": [
    "## Resumen"
   ]
  },
  {
   "cell_type": "markdown",
   "metadata": {
    "pycharm": {
     "name": "#%% md\n"
    }
   },
   "source": [
    "En las celdas de arriba hemos extraido dos características a partir de una imagen.\n",
    "\n",
    "Al principio, la imagen $x$(escalada al intervalo unidad) se puede considerar como un punto en el espacio ${[0,1]}^{28\\times28}$. <br>\n",
    "Sin embargo no todos los píxeles aportar información útil. \n",
    "\n",
    "La **extracción de características** consiste en extraer la información que pueda ser relevante para describir el dato de entrada *crudo*.<br>\n",
    "En este caso, hemos diseñado una manera de extraer la *altura* y la *anchura* del número de entrada.\n",
    "Este método se puede ver como dos funciones $f_H$ y $f_W$ que mapean el dato de entrada a una característica\n",
    "\n",
    "$f_H : {[0,1]}^{28\\times28} \\longrightarrow \\mathbb{R}$, tal que  $f_H(x) = \\mathrm{height}, \\quad$\n",
    "y\n",
    "$\\quad f_W : {[0,1]}^{28\\times28} \\longrightarrow \\mathbb{R}$, tal que  $f_W(x) = \\mathrm{width}.$\n",
    "\n",
    "En definitiva, la imagen de resolución $28\\times28$ se representa por un punto 2D (height,width), que podemos pintar facilmente.\n",
    "\n",
    "En la figura se denomina \"espacio de entrada\" (*input space*) al espacio donde viven los datos de entrada *crudos*, y \"espacio de características\" (*feature space*) al espacio donde viven las representación de los datos diseñadas o elegidas.\n",
    "\n",
    "A continuación creamos dos características nuevas, *area* y *WoverH*, a partir de las anteriores haciendo **ingeniería de características**. <br>\n",
    "Al añadirlas nuestro espacio de características pasa a ser $\\mathbb{R}^4$,  o sea que la imagen seleccionada se representa con un vector 4D, que es más dificil de representar en una figura. \n",
    "\n",
    "Después hemos visto que scikit-learn tiene métodos para añadir características que se utilizan habitualmnente como las polinómicas o las transformaciones mediante funciones de las que había inicialmente. \n",
    "\n",
    "#### Detalles del código\n",
    "\n",
    "| Extracción de características | Ingeniería de características |\n",
    "|---|----|\n",
    "|Las funciones reciben una imagen | Las funciones reciben un DataFrame de características|\n",
    "|Las funciones devuelven un DataFrame con las características|Las funciones devuelven un DataFrame con las nuevas características|\n"
   ]
  },
  {
   "cell_type": "markdown",
   "metadata": {
    "pycharm": {
     "name": "#%% md\n"
    },
    "tags": [],
    "toc-hr-collapsed": true
   },
   "source": [
    "## Ejercicios"
   ]
  },
  {
   "cell_type": "markdown",
   "metadata": {
    "jp-MarkdownHeadingCollapsed": true,
    "pycharm": {
     "name": "#%% md\n"
    },
    "tags": []
   },
   "source": [
    "### **Ej.1.**  Extensión para más de 1 imagen"
   ]
  },
  {
   "cell_type": "markdown",
   "metadata": {
    "pycharm": {
     "name": "#%% md\n"
    }
   },
   "source": [
    "En este cuaderno hemos creado vectores de características (*height*, *width*, ...) para **una** imagen seleccionada de un dataframe.\n",
    "\n",
    "**Pero** la extracción de características **se debe realizar sobre todos los datos.** \n",
    "Por tanto nos conviene tener una función que realice esta tarea sobre un dataframe, no sobre una única imagen.\n",
    "\n",
    "**Se pide:**\n",
    "\n",
    "Modificar la función **get_feat_width** para que:\n",
    "+ Reciba un **dataframe**, del cual sabemos lo que representa cada fila y columna\n",
    "    - En esta caso cada fila es una imagen de 0 o de 1, serializada en un vector de 784 elementos.\n",
    "    - Cada columna es el valor de un pixel, escalado al intervalo [0,1]\n",
    "    - Todas las imágenes son en escala de grises, por lo que no hay 3 canales (R,G,B), sólo 1.\n",
    "+ Reciba un parametro **theta** para ajustar la característica, por defecto = 0.1    \n",
    "+ Devuelva un dataframe con una columna llamada **width** y tantas filas como filas tiene el dataframe de entrada\n",
    "\n",
    "Después crear otra función **get_feat_height** con las mismas características, pero para la altura (**height**)\n",
    "\n",
    "**Comentario** Recuerda que utilizar bucles es inneficiente cuando se usan lenguajes o bibliotecas optimizadas para vectores como Matlab o Numpy. Hay que intentar pensar en como operar con las matrices N-dimensionales; o al menos intentar operar con matrices 2D. <br>\n",
    "Por ejemplo, cuando tratamos con imágenes en escala de grises, podemos utilizar el eje 0 para indexarlas, el eje 1 para las filas y el eje 2 para las columnas de la matriz 2D que representa cada imagen. <br>\n",
    "Así podemos utilizar un for para recorrer cada imagen y luego utilizar los métodos matriciales para evitar recorrer las filas y las columnas.\n",
    "\n",
    "**Ayuda:** Una matriz de 1000 filas y 784 columnas (1000 x 784) se puede transformar en otra de 1000 x 28 x 28<br>\n",
    "Prueba el siguiente código para verlo mejor:\n",
    "\n",
    "    data = X.values                   #<- volcado del dataframe en un numpy array de forma 1000x784 \n",
    "    data = data.reshape([1000,28,28]) #<- cambiamos la forma de 'data', de matriz 2D pasa a 3D\n",
    "    plt.imshow(data[15,:,:])          #<- mostrar la imagen número 15 <br>\n",
    "\n",
    "\n",
    "**¡Cuidado!** Cuando se hace **reshape** para pasar de 2D a 3D con el código de arriba, la matriz 28x28 se forma colocando una fila de 28 elementos sobre otra. Prueba el siguiente código para verlo mejor:\n",
    "\n",
    "    foo=np.ceil(np.random.rand(2,12)*10)\n",
    "    print('\\n original-------------------\\n'); print(foo)\n",
    "    print('\\n reshape([2,3,4])-----------\\n'); print(foo.reshape([2,3,4]))\n",
    "\n",
    "**Alternativa:**\n",
    "Puedes utilizar el iterador de pandas:\n",
    "\n",
    "        for ind, row in X.iterrows():\n",
    "            x = row.values.reshape(28, 28)\n",
    "            #... y luego hacer cosas con x"
   ]
  },
  {
   "cell_type": "markdown",
   "metadata": {
    "jp-MarkdownHeadingCollapsed": true,
    "pycharm": {
     "name": "#%% md\n"
    },
    "tags": []
   },
   "source": [
    "### **Ej.2.** Visualizar el conjunto de datos en el espacio de características"
   ]
  },
  {
   "cell_type": "markdown",
   "metadata": {
    "pycharm": {
     "name": "#%% md\n"
    }
   },
   "source": [
    "1. Utilizando el código del ejercicio 1, muestra en una figura todos los ejemplos del conjunto de datos <code>setX_0vs1.csv</code> utilizando un color y un marcador diferente para la representación 2D de los ceros y de los unos;\n",
    "por ejemplo circulos amarillos para los ceros y cruces azules para los unos.\n",
    "1. Prueba diferentes <code>theta</code> para ver como varía la representación del conjunto de datos dado en el espacio de características.\n",
    "\n",
    "Como habrá muchos pares (anchura,altura) que coincidan, una buena idea es separarlos un poco añadiendo una agitación o *jitter*. En el siguiente código es una función que genera un *jitter* gaussiano, centrado en 0 y con una desviación *sigma*, que además puede ser positivo o negativo, sobre un vector de numpy o una serie de pandas, X.\n",
    "\n",
    "    def jitter(X,sigma=0.3):\n",
    "        random_sign = (-1)**np.random.randint(1,3,*X.shape)\n",
    "        return X + np.random.normal(0,sigma,*X.shape)*random_sign"
   ]
  },
  {
   "cell_type": "markdown",
   "metadata": {
    "jp-MarkdownHeadingCollapsed": true,
    "pycharm": {
     "name": "#%% md\n"
    },
    "tags": []
   },
   "source": [
    "### **Ej.3.** Crear más características"
   ]
  },
  {
   "cell_type": "markdown",
   "metadata": {
    "pycharm": {
     "name": "#%% md\n"
    }
   },
   "source": [
    "1. Crear la función **get_features** que reciba un dataframe con las imágenes serializadas y devuelva un dataframe con 8 columnas y 1000 filas.\n",
    "    - cada fila de los dataframes se corresponden con una imagen\n",
    "    - las columnas del dataframe resultante serán:\n",
    "        - <code>width</code>:  anchura estimada de la cifra en la imagen (ya hecho)\n",
    "        - <code>W_max1</code>: el número de columna donde se encuentra el valor máximo de intensidad proyectada en el eje horizontal.\n",
    "        - <code>W_max2</code>: el número de columna donde se encuentra el segundo valor máximo de intensidad proyectada en el eje horizontal.\n",
    "        - <code>W_max3</code>: el número de columna donde se encuentra el tercer valor máximo de intensidad proyectada en el eje horizontal.\n",
    "        - <code>height</code>: altura estimada de la cifra en la imagen (ya hecho)\n",
    "        - <code>W_max1</code>: el número de fila donde se encuentra el valor máximo de intensidad proyectada en el eje vertical.\n",
    "        - <code>W_max2</code>: el número de fila donde se encuentra el segundo valor máximo de intensidad proyectada en el eje vertical.\n",
    "        - <code>W_max3</code>: el número de fila donde se encuentra el tercer valor máximo de intensidad proyectada en el eje vertical.        \n",
    "        \n",
    "2. Crear el dataframe <code>X_feat</code> con estas características para cada una de las imágenes de <code>setX_0vs1.csv</code>\n",
    "3. Añadir más características mediante las técnicas aprendidas.\n",
    "4. Visualizar diferentes pares de características usando el mísmo código de colores que arriba."
   ]
  },
  {
   "cell_type": "markdown",
   "metadata": {
    "jp-MarkdownHeadingCollapsed": true,
    "pycharm": {
     "name": "#%% md\n"
    },
    "tags": []
   },
   "source": [
    "### **Ej.4.** Explorar las herramientas y guardar los resultados "
   ]
  },
  {
   "cell_type": "markdown",
   "metadata": {},
   "source": [
    "1. Explora otros creadores de características del paquete <code>sklearn.preprocessing</code>\n",
    "1. Para terminar guarda en un fichero CSV el dataframe con las características extraídas. <br>\n",
    "<u>Sugerencia</u>: Llama al fichero <code>featX_0vs1.csv</code>, y utiliza ';' como caracter separador."
   ]
  }
 ],
 "metadata": {
  "kernelspec": {
   "display_name": "Python 3 (ipykernel)",
   "language": "python",
   "name": "python3"
  },
  "language_info": {
   "codemirror_mode": {
    "name": "ipython",
    "version": 3
   },
   "file_extension": ".py",
   "mimetype": "text/x-python",
   "name": "python",
   "nbconvert_exporter": "python",
   "pygments_lexer": "ipython3",
   "version": "3.9.7"
  },
  "toc-autonumbering": false
 },
 "nbformat": 4,
 "nbformat_minor": 4
}
