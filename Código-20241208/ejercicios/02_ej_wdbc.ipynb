{
 "cells": [
  {
   "cell_type": "markdown",
   "id": "7bc4f5cf-c6d1-4379-80b5-ab3d50ef0c04",
   "metadata": {},
   "source": [
    "<b>\n",
    "Con este ejercicio se entiende la importancia de estandarizar los datos antes de aplicar PCA. <br>\n",
    "No hay que hacer código nuevo, sólo probar tres preprocesados diferentes de los datos\n",
    "</b>"
   ]
  },
  {
   "cell_type": "markdown",
   "id": "7b66e961-439d-49b2-b528-47375129d5c6",
   "metadata": {},
   "source": [
    "### leer datos"
   ]
  },
  {
   "cell_type": "code",
   "execution_count": 1,
   "id": "ddea6c02-c5ab-4408-a1db-32e5108cf4d1",
   "metadata": {},
   "outputs": [],
   "source": [
    "import numpy as np\n",
    "import pandas as pd\n",
    "import matplotlib.pyplot as plt"
   ]
  },
  {
   "cell_type": "code",
   "execution_count": 2,
   "id": "091c5ea5-5269-4103-b899-92e7f747b763",
   "metadata": {},
   "outputs": [],
   "source": [
    "path_name = 'C:/Alfredo/Python_projects/URJC_MUVA_RP/2024/datasets/breast_cancer_winsconsin_dataset/'\n",
    "\n",
    "train_X = pd.read_csv(path_name+'train_X.csv', header=0, sep=';', index_col = 'id')\n",
    "# train_Y = pd.read_csv(path_name+'train_Y.csv', header=0, sep=';', index_col = 'id') # |\n",
    "# test_X = pd.read_csv(path_name+'test_X.csv', header=0, sep=';', index_col = 'id')   # |<- No vamos a usarlos\n",
    "# test_Y = pd.read_csv(path_name+'test_Y.csv', header=0, sep=';', index_col = 'id')   # |"
   ]
  },
  {
   "cell_type": "markdown",
   "id": "dbcd7c62-c7e9-471c-8569-6a44da174a07",
   "metadata": {
    "jp-MarkdownHeadingCollapsed": true
   },
   "source": [
    "### reducir dimensión con PCA\n",
    "\n",
    "En el código de abajo se muestra la importancia de preprocesar los datos cuando se hace PCA.\n",
    "\n",
    "En concreto se pueden probar tres casos:\n",
    "\n",
    "- `type_processing = 'none'` -> Sin hacer nada a los datos\n",
    "- `type_processing = 'no_mean'` -> haciendo que la media de cada columna sea cero\n",
    "- `type_processing = 'standarize'` -> haciendo que la media de cada columna sea cero y su desvianción estandar sea uno,\n",
    "\n",
    "Tras ejecutarlo se imprime el número de componentes principales que se han necesitado para alcanzar el 95% de la varianza explicada."
   ]
  },
  {
   "cell_type": "code",
   "execution_count": 3,
   "id": "0d823138-d960-4d9a-a5b0-0abe655dfd8d",
   "metadata": {},
   "outputs": [
    {
     "name": "stdout",
     "output_type": "stream",
     "text": [
      "num. of components = 1\n",
      "explained_variance_ratio = 0.98\n"
     ]
    }
   ],
   "source": [
    "from sklearn.decomposition import PCA\n",
    "from sklearn.preprocessing import MinMaxScaler, MaxAbsScaler, StandardScaler\n",
    "\n",
    "type_processing = 'none' # <-------------- { none , no_mean , standarize }\n",
    "if type_processing == 'standarize':\n",
    "    scaler = StandardScaler().set_output(transform='pandas')\n",
    "    scaler.fit(train_X)\n",
    "    X_processed = scaler.transform(train_X)\n",
    "elif type_processing == 'no_mean':\n",
    "    mu = train_X.mean()\n",
    "    X_processed = train_X - mu\n",
    "elif type_processing == 'none':\n",
    "    X_processed = train_X\n",
    "\n",
    "n_components = .95\n",
    "pca = PCA(n_components = n_components).set_output(transform='pandas')\n",
    "pca.fit(X_processed)\n",
    "x_pca = pca.transform(X_processed)\n",
    "\n",
    "print(f'num. of components = {pca.components_.shape[0]}')\n",
    "print(f'explained_variance_ratio = {pca.explained_variance_ratio_.sum():0.2f}')"
   ]
  },
  {
   "cell_type": "markdown",
   "id": "06d79afd-effa-4c75-b1a6-35dcc6221e36",
   "metadata": {
    "jp-MarkdownHeadingCollapsed": true
   },
   "source": [
    "### Explicación\n",
    "- PCA busca la dirección de máxima varianza. \n",
    "- Si hubiera 1 columna (una dimensión de las $D$ que tienen mis datos) con varianza \"infinito\" (es decir muchisimo más grande que las demás) PCA \"pensaría\" que esa es la dirección de máxima varianza y no consideraría las demás.\n",
    "- En un caso más realista, donde haya algunas columnas con un orden de magnitud mayor que las demás la dirección que encuentra PCA estará dominada por estas.\n",
    "- Si todas las columnas tienen varianza unidad entonces PCA comenzará a \"girar\" el conjunto de datos hasta encontrar una dirección donde la varianza es mayor que en las demás direcciones.\n"
   ]
  }
 ],
 "metadata": {
  "kernelspec": {
   "display_name": "Python 3 (ipykernel)",
   "language": "python",
   "name": "python3"
  },
  "language_info": {
   "codemirror_mode": {
    "name": "ipython",
    "version": 3
   },
   "file_extension": ".py",
   "mimetype": "text/x-python",
   "name": "python",
   "nbconvert_exporter": "python",
   "pygments_lexer": "ipython3",
   "version": "3.9.7"
  }
 },
 "nbformat": 4,
 "nbformat_minor": 5
}
