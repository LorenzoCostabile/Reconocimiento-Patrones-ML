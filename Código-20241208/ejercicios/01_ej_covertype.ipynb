{
 "cells": [
  {
   "cell_type": "markdown",
   "id": "1e1fd7c7-a8aa-40bf-8459-60064317b0a9",
   "metadata": {},
   "source": [
    "# Ejercicio _Covertype_\n",
    "\n",
    "Ejecuta la celda de abajo para cargar los datos.\n",
    "\n",
    ">Es necesario que te descargues del aula virtual el fichero `covertype.zip` y lo decomprimas en una carpeta.\n",
    "<br>\n",
    "Obviamente también es necesario que cambies la variable `path_name` para poder ejecutarlo en tu ordenador.\n",
    "\n",
    "Después responde realiza las tareas propuestas.\n",
    "\n",
    "---\n",
    "    [ES] Alfredo Cuesta Infante para 'Reconocimiento de Patrones'\n",
    "       @ Master Universitario en Visión Artificial, 2024, URJC (España)\n",
    "    [EN] Alfredo Cuesta-Infante for 'Pattern Recognition'\n",
    "       @ Master of Computer Vision, 2024, URJC (Spain)\n",
    "\n",
    "    alfredo.cuesta@urjc.es"
   ]
  },
  {
   "cell_type": "markdown",
   "id": "6bdedc98-4f7c-468e-b77a-d44ec1320465",
   "metadata": {},
   "source": [
    "### Objetivos\n",
    "\n",
    "- Familiarizarse y practicar el uso de Pandas\n",
    "- Explorar un conjunto de datos dado\n",
    "- Crear nuevas características\n",
    "- Aplicar las transformaciones hechas en el conjunto de entrenamiento al conjunto de test "
   ]
  },
  {
   "cell_type": "markdown",
   "id": "1698f568-5164-4cca-85d8-13039cf40ac8",
   "metadata": {},
   "source": [
    "### Descripción del conjunto de datos\n",
    "\n",
    "Cada fila contiene un vector que describe el tipo bosque (`covertype`) que recubre una celda de superficie de $30\\times30$ m$^2$.\n",
    "\n",
    "Hay 7 tipos diferentes de bosques, etiquetados {1, 2, 3, 4, 5, 6, 7}\n",
    "\n",
    "Los datos han sido recopilados mediante fotografía area y fusionados con sistemas de información geográfica e incluyen 40 tipos diferentes de suelo (`type1` ... `type40`).<br>\n",
    "Estos 40 atributos solo pueden tomar valor {0, 1}. 1 indica que ese es el tipo de suele en dicha celda."
   ]
  },
  {
   "cell_type": "code",
   "execution_count": 1,
   "id": "b97e3bce-8e39-405e-9d1b-a323db536c05",
   "metadata": {},
   "outputs": [],
   "source": [
    "import numpy as np\n",
    "import pandas as pd\n",
    "import matplotlib.pyplot as plt\n",
    "from sklearn.model_selection import train_test_split\n",
    "\n",
    "path_name = 'C:/Alfredo/Python_projects/URJC_MUVA_RP/2024/datasets/covertype/'\n",
    "train_name = 'train.csv'\n",
    "test_name  = 'test.csv' \n",
    "\n",
    "def get_X_Y(full_name):\n",
    "    df = pd.read_csv(full_name, sep=';', header=0, index_col='Unnamed: 0')\n",
    "    df.reset_index(drop=True, inplace=True)\n",
    "    list_features = df.columns.to_list()\n",
    "    list_target = list_features[0]\n",
    "    list_features.remove(list_target)\n",
    "    df_X = df[list_features]\n",
    "    df_Y = df[list_target]\n",
    "    return df_X, df_Y\n",
    "\n",
    "train_X, train_Y = get_X_Y(path_name+train_name)\n",
    "test_X,  test_Y  = get_X_Y(path_name+test_name)"
   ]
  },
  {
   "cell_type": "markdown",
   "id": "0df95264-584d-418f-b648-979b435cc025",
   "metadata": {},
   "source": [
    "###  Tareas.\n",
    "\n",
    "Responde a las preguntas de las siguientes celdas. \n",
    "\n",
    "Para averiguar las respuestas lo mejor es intercalar nuevas celdas de código"
   ]
  },
  {
   "cell_type": "markdown",
   "id": "256ebc97-21de-4315-93fc-ebce592996d6",
   "metadata": {},
   "source": [
    "**¿Qué tamaño tienen los siguientes dataframes?**\n",
    "- train_X\n",
    "- train_Y\n",
    "- test_X\n",
    "- test_Y"
   ]
  },
  {
   "cell_type": "markdown",
   "id": "dba333c3-f472-42c2-9799-d8aacaff8670",
   "metadata": {},
   "source": [
    "**Obten una lista con los nombres de las columnas de `train_X` y de `train_Y`**"
   ]
  },
  {
   "cell_type": "markdown",
   "id": "a37db982-5125-43e0-b385-a537175a5763",
   "metadata": {},
   "source": [
    "**¿Cuál es el tipo de suelo más frecuente del conjunto de datos `train_X`?**"
   ]
  },
  {
   "cell_type": "markdown",
   "id": "4a36f9f6-da59-4b8e-8bf7-df411935154c",
   "metadata": {},
   "source": [
    "**Utiliza el método `describe()` con el dataframe `train_X` para obtener una estadística descriptiva básica del conjunto de datos**\n",
    "\n",
    "Responde las siguientes preguntas:\n",
    "\n",
    "- ¿Cuál es el atributo que tiene mayor valor medio (_mean_)? \n",
    "- ¿Cuál es el atributo que tiene menod valor medio (_mean_)?\n",
    "- ¿Cuál es el atributo que tiene la mayor diferencia entre su valor máximo (_max_) y su valor mínimo (_min_)"
   ]
  },
  {
   "cell_type": "markdown",
   "id": "774bdcdc-540f-48c2-957f-cd2dfac9f3ff",
   "metadata": {},
   "source": [
    "**Utiliza el método `info()` con el dataframe `train_X` para averiguar el tipo de dato (_int_, _float_, _object_, etc) de cada atributo**"
   ]
  },
  {
   "cell_type": "markdown",
   "id": "00e4a0dc-ea5e-4086-ab83-263258cd40e2",
   "metadata": {},
   "source": [
    "**Realiza las siguientes transformaciones sobre los datos de  `train_X` y después  aplica las mismas transformaciones sobre `test_X`**\n",
    "\n",
    "1. Añadir una nueva característica llamada `Hillshade_mean` que sea el promedio de {'Hillshade_9am', 'Hillshade_Noon', 'Hillshade_3pm'}\n",
    "2. Añadir una nueva característica llamada `type_sum` que sea la suma desde 'type1' hasta 'type40'\n",
    "3. Calcular la media de cada característica y después restar de todos los valores de dicho atributo esa media.\n",
    "4. Calcular la desviación estandard de cada característica y después dividir todos los valores de dicho atributo esa desviación estandard."
   ]
  }
 ],
 "metadata": {
  "kernelspec": {
   "display_name": "Python 3 (ipykernel)",
   "language": "python",
   "name": "python3"
  },
  "language_info": {
   "codemirror_mode": {
    "name": "ipython",
    "version": 3
   },
   "file_extension": ".py",
   "mimetype": "text/x-python",
   "name": "python",
   "nbconvert_exporter": "python",
   "pygments_lexer": "ipython3",
   "version": "3.9.7"
  }
 },
 "nbformat": 4,
 "nbformat_minor": 5
}
