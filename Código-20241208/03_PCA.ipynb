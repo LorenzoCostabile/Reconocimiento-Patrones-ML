{
 "cells": [
  {
   "cell_type": "markdown",
   "id": "e60cd5db-5dc6-46c0-8e98-6ceb2b195d01",
   "metadata": {
    "tags": []
   },
   "source": [
    "# Proyección en los $n$ componentes principales\n",
    "\n",
    "En este cuaderno veremos el modo de utilizar PCA\n",
    "\n",
    "---\n",
    "    [ES] Código de Alfredo Cuesta Infante para 'Reconocimiento de Patrones'\n",
    "       @ Master Universitario en Visión Artificial, 2024, URJC (España)\n",
    "    [EN] Code by Alfredo Cuesta-Infante for 'Pattern Recognition'\n",
    "       @ Master of Computer Vision, 2024, URJC (Spain)\n",
    "\n",
    "    alfredo.cuesta@urjc.es"
   ]
  },
  {
   "cell_type": "markdown",
   "id": "9a91039e-c53f-48ba-98be-da95c11d6011",
   "metadata": {
    "tags": []
   },
   "source": [
    "## 0. Imports & cargado de datos"
   ]
  },
  {
   "cell_type": "code",
   "execution_count": 1,
   "id": "c888b1da-da78-4062-b900-0309b7255d4f",
   "metadata": {},
   "outputs": [
    {
     "data": {
      "text/html": [
       "<div>\n",
       "<style scoped>\n",
       "    .dataframe tbody tr th:only-of-type {\n",
       "        vertical-align: middle;\n",
       "    }\n",
       "\n",
       "    .dataframe tbody tr th {\n",
       "        vertical-align: top;\n",
       "    }\n",
       "\n",
       "    .dataframe thead th {\n",
       "        text-align: right;\n",
       "    }\n",
       "</style>\n",
       "<table border=\"1\" class=\"dataframe\">\n",
       "  <thead>\n",
       "    <tr style=\"text-align: right;\">\n",
       "      <th></th>\n",
       "      <th>feat.1_1</th>\n",
       "      <th>feat.2_1</th>\n",
       "      <th>feat.3_1</th>\n",
       "      <th>feat.4_1</th>\n",
       "      <th>feat.5_1</th>\n",
       "      <th>feat.6_1</th>\n",
       "      <th>feat.7_1</th>\n",
       "      <th>feat.8_1</th>\n",
       "      <th>feat.9_1</th>\n",
       "      <th>feat.10_1</th>\n",
       "      <th>...</th>\n",
       "      <th>feat.1_3</th>\n",
       "      <th>feat.2_3</th>\n",
       "      <th>feat.3_3</th>\n",
       "      <th>feat.4_3</th>\n",
       "      <th>feat.5_3</th>\n",
       "      <th>feat.6_3</th>\n",
       "      <th>feat.7_3</th>\n",
       "      <th>feat.8_3</th>\n",
       "      <th>feat.9_3</th>\n",
       "      <th>feat.10_3</th>\n",
       "    </tr>\n",
       "    <tr>\n",
       "      <th>id</th>\n",
       "      <th></th>\n",
       "      <th></th>\n",
       "      <th></th>\n",
       "      <th></th>\n",
       "      <th></th>\n",
       "      <th></th>\n",
       "      <th></th>\n",
       "      <th></th>\n",
       "      <th></th>\n",
       "      <th></th>\n",
       "      <th></th>\n",
       "      <th></th>\n",
       "      <th></th>\n",
       "      <th></th>\n",
       "      <th></th>\n",
       "      <th></th>\n",
       "      <th></th>\n",
       "      <th></th>\n",
       "      <th></th>\n",
       "      <th></th>\n",
       "      <th></th>\n",
       "    </tr>\n",
       "  </thead>\n",
       "  <tbody>\n",
       "    <tr>\n",
       "      <th>130</th>\n",
       "      <td>12.19</td>\n",
       "      <td>13.29</td>\n",
       "      <td>79.08</td>\n",
       "      <td>455.8</td>\n",
       "      <td>0.10660</td>\n",
       "      <td>0.09509</td>\n",
       "      <td>0.02855</td>\n",
       "      <td>0.02882</td>\n",
       "      <td>0.1880</td>\n",
       "      <td>0.06471</td>\n",
       "      <td>...</td>\n",
       "      <td>13.34</td>\n",
       "      <td>17.81</td>\n",
       "      <td>91.38</td>\n",
       "      <td>545.2</td>\n",
       "      <td>0.1427</td>\n",
       "      <td>0.25850</td>\n",
       "      <td>0.09915</td>\n",
       "      <td>0.08187</td>\n",
       "      <td>0.3469</td>\n",
       "      <td>0.09241</td>\n",
       "    </tr>\n",
       "    <tr>\n",
       "      <th>73</th>\n",
       "      <td>13.80</td>\n",
       "      <td>15.79</td>\n",
       "      <td>90.43</td>\n",
       "      <td>584.1</td>\n",
       "      <td>0.10070</td>\n",
       "      <td>0.12800</td>\n",
       "      <td>0.07789</td>\n",
       "      <td>0.05069</td>\n",
       "      <td>0.1662</td>\n",
       "      <td>0.06566</td>\n",
       "      <td>...</td>\n",
       "      <td>16.57</td>\n",
       "      <td>20.86</td>\n",
       "      <td>110.30</td>\n",
       "      <td>812.4</td>\n",
       "      <td>0.1411</td>\n",
       "      <td>0.35420</td>\n",
       "      <td>0.27790</td>\n",
       "      <td>0.13830</td>\n",
       "      <td>0.2589</td>\n",
       "      <td>0.10300</td>\n",
       "    </tr>\n",
       "    <tr>\n",
       "      <th>0</th>\n",
       "      <td>17.99</td>\n",
       "      <td>10.38</td>\n",
       "      <td>122.80</td>\n",
       "      <td>1001.0</td>\n",
       "      <td>0.11840</td>\n",
       "      <td>0.27760</td>\n",
       "      <td>0.30010</td>\n",
       "      <td>0.14710</td>\n",
       "      <td>0.2419</td>\n",
       "      <td>0.07871</td>\n",
       "      <td>...</td>\n",
       "      <td>25.38</td>\n",
       "      <td>17.33</td>\n",
       "      <td>184.60</td>\n",
       "      <td>2019.0</td>\n",
       "      <td>0.1622</td>\n",
       "      <td>0.66560</td>\n",
       "      <td>0.71190</td>\n",
       "      <td>0.26540</td>\n",
       "      <td>0.4601</td>\n",
       "      <td>0.11890</td>\n",
       "    </tr>\n",
       "    <tr>\n",
       "      <th>471</th>\n",
       "      <td>12.04</td>\n",
       "      <td>28.14</td>\n",
       "      <td>76.85</td>\n",
       "      <td>449.9</td>\n",
       "      <td>0.08752</td>\n",
       "      <td>0.06000</td>\n",
       "      <td>0.02367</td>\n",
       "      <td>0.02377</td>\n",
       "      <td>0.1854</td>\n",
       "      <td>0.05698</td>\n",
       "      <td>...</td>\n",
       "      <td>13.60</td>\n",
       "      <td>33.33</td>\n",
       "      <td>87.24</td>\n",
       "      <td>567.6</td>\n",
       "      <td>0.1041</td>\n",
       "      <td>0.09726</td>\n",
       "      <td>0.05524</td>\n",
       "      <td>0.05547</td>\n",
       "      <td>0.2404</td>\n",
       "      <td>0.06639</td>\n",
       "    </tr>\n",
       "    <tr>\n",
       "      <th>216</th>\n",
       "      <td>11.89</td>\n",
       "      <td>18.35</td>\n",
       "      <td>77.32</td>\n",
       "      <td>432.2</td>\n",
       "      <td>0.09363</td>\n",
       "      <td>0.11540</td>\n",
       "      <td>0.06636</td>\n",
       "      <td>0.03142</td>\n",
       "      <td>0.1967</td>\n",
       "      <td>0.06314</td>\n",
       "      <td>...</td>\n",
       "      <td>13.25</td>\n",
       "      <td>27.10</td>\n",
       "      <td>86.20</td>\n",
       "      <td>531.2</td>\n",
       "      <td>0.1405</td>\n",
       "      <td>0.30460</td>\n",
       "      <td>0.28060</td>\n",
       "      <td>0.11380</td>\n",
       "      <td>0.3397</td>\n",
       "      <td>0.08365</td>\n",
       "    </tr>\n",
       "  </tbody>\n",
       "</table>\n",
       "<p>5 rows × 30 columns</p>\n",
       "</div>"
      ],
      "text/plain": [
       "     feat.1_1  feat.2_1  feat.3_1  feat.4_1  feat.5_1  feat.6_1  feat.7_1  \\\n",
       "id                                                                          \n",
       "130     12.19     13.29     79.08     455.8   0.10660   0.09509   0.02855   \n",
       "73      13.80     15.79     90.43     584.1   0.10070   0.12800   0.07789   \n",
       "0       17.99     10.38    122.80    1001.0   0.11840   0.27760   0.30010   \n",
       "471     12.04     28.14     76.85     449.9   0.08752   0.06000   0.02367   \n",
       "216     11.89     18.35     77.32     432.2   0.09363   0.11540   0.06636   \n",
       "\n",
       "     feat.8_1  feat.9_1  feat.10_1  ...  feat.1_3  feat.2_3  feat.3_3  \\\n",
       "id                                  ...                                 \n",
       "130   0.02882    0.1880    0.06471  ...     13.34     17.81     91.38   \n",
       "73    0.05069    0.1662    0.06566  ...     16.57     20.86    110.30   \n",
       "0     0.14710    0.2419    0.07871  ...     25.38     17.33    184.60   \n",
       "471   0.02377    0.1854    0.05698  ...     13.60     33.33     87.24   \n",
       "216   0.03142    0.1967    0.06314  ...     13.25     27.10     86.20   \n",
       "\n",
       "     feat.4_3  feat.5_3  feat.6_3  feat.7_3  feat.8_3  feat.9_3  feat.10_3  \n",
       "id                                                                          \n",
       "130     545.2    0.1427   0.25850   0.09915   0.08187    0.3469    0.09241  \n",
       "73      812.4    0.1411   0.35420   0.27790   0.13830    0.2589    0.10300  \n",
       "0      2019.0    0.1622   0.66560   0.71190   0.26540    0.4601    0.11890  \n",
       "471     567.6    0.1041   0.09726   0.05524   0.05547    0.2404    0.06639  \n",
       "216     531.2    0.1405   0.30460   0.28060   0.11380    0.3397    0.08365  \n",
       "\n",
       "[5 rows x 30 columns]"
      ]
     },
     "execution_count": 1,
     "metadata": {},
     "output_type": "execute_result"
    }
   ],
   "source": [
    "import numpy as np\n",
    "import pandas as pd\n",
    "from sklearn.decomposition import PCA\n",
    "from sklearn.preprocessing import StandardScaler, MinMaxScaler\n",
    "import matplotlib.pyplot as plt\n",
    "\n",
    "file_path = \"../datasets/breast_cancer_winsconsin_dataset/\"\n",
    "file_name = \"train_X.csv\"\n",
    "X_init = pd.read_csv(file_path+file_name, sep = ';', decimal = '.', index_col=0)\n",
    "file_name = \"train_Y.csv\"\n",
    "Y_init = pd.read_csv(file_path+file_name, sep = ';', decimal = '.', index_col=0)\n",
    "Y_color = Y_init.replace(['M','B'],['r','b']).values.ravel() #<- this is for plotting\n",
    "#------------------------------------\n",
    "X_init.head()"
   ]
  },
  {
   "cell_type": "markdown",
   "id": "f6ec7360-57f9-4a53-83a1-f58c0ed26225",
   "metadata": {
    "tags": []
   },
   "source": [
    "## 1. PCA con $D=2~$ y $~d=\\{1,2\\}$\n",
    "\n",
    "- Con los ejemplos en un espacio 2D realmente no hace mucha falta PCA.<br>\n",
    "  Pero nos sirve para mostrar que:\n",
    "  1. Los componentes principales conforman una nueva base donde los ejemplos se representan con otras coordenadas.\n",
    "  1. Es posible reconstruir completamente el conjunto de ejemplos a partir de todos los componentes principales.\n",
    "- Además se da la opción de realizar diferentes transformaciones de escalado sobre los ejemplos para ver como afectan a PCA.\n"
   ]
  },
  {
   "cell_type": "markdown",
   "id": "8d827a8e-6129-433d-8419-48ac6a202942",
   "metadata": {
    "tags": []
   },
   "source": [
    "### 1.1. Preselección de características"
   ]
  },
  {
   "cell_type": "code",
   "execution_count": 2,
   "id": "79b5fc8c-d188-43b2-810d-3b8c700022df",
   "metadata": {},
   "outputs": [
    {
     "data": {
      "image/png": "[encoded data removed]",
      "text/plain": [
       "<Figure size 360x360 with 4 Axes>"
      ]
     },
     "metadata": {
      "needs_background": "light"
     },
     "output_type": "display_data"
    }
   ],
   "source": [
    "cols_idx = [0,10] #<-- select two columns (or just put the names in 'cols' and comment this line)\n",
    "cols  = X_init.columns[cols_idx] \n",
    "X_sel = X_init[cols] \n",
    "\n",
    "spm = pd.plotting.scatter_matrix(X_sel, c=Y_color, figsize=(5, 5), marker='.',\n",
    "                                 hist_kwds={'bins': 20}, s=60, alpha=.1)"
   ]
  },
  {
   "cell_type": "markdown",
   "id": "5bb6fa36-e1ec-4a08-9b02-2e209d94b7a0",
   "metadata": {
    "tags": []
   },
   "source": [
    "### 1.2. Estandarización de los datos"
   ]
  },
  {
   "cell_type": "code",
   "execution_count": 3,
   "id": "9d5881f6-1041-4a80-8055-0dae32c04b58",
   "metadata": {},
   "outputs": [
    {
     "data": {
      "image/png": "[encoded data removed]",
      "text/plain": [
       "<Figure size 360x360 with 4 Axes>"
      ]
     },
     "metadata": {
      "needs_background": "light"
     },
     "output_type": "display_data"
    }
   ],
   "source": [
    "flag_scale = 'standard' # 'standard', 'noMean', 'unit' , otherwise is 'none'='init'\n",
    "\n",
    "if flag_scale == 'standard' : #<- mean=0, std=1\n",
    "    std_scaler  = StandardScaler().set_output(transform=\"pandas\")    \n",
    "    std_scaler.fit(X_sel)\n",
    "    X_scl = std_scaler.transform(X_sel)\n",
    "elif flag_scale == 'noMean':  #<- mean=0\n",
    "    X_scl =(X_sel - X_sel.mean())\n",
    "elif flag_scale == 'unit':    #<- linear scaled to the unit interval \n",
    "    unit_scaler = MinMaxScaler().set_output(transform=\"pandas\")\n",
    "    unit_scaler.fit(X_sel)\n",
    "    X_scl = unit_scaler.transform(X_sel)\n",
    "else:\n",
    "    X_scl = X_sel\n",
    "    \n",
    "spm = pd.plotting.scatter_matrix(X_scl, c=Y_color, figsize=(5, 5), marker='.',\n",
    "                                 hist_kwds={'bins': 20}, s=60, alpha=.1)"
   ]
  },
  {
   "cell_type": "markdown",
   "id": "8a16d9c4-e55d-4a7d-8b24-b8f1e941e9fa",
   "metadata": {
    "tags": []
   },
   "source": [
    "### 1.3. Análisis de componentes principales"
   ]
  },
  {
   "cell_type": "code",
   "execution_count": 4,
   "id": "74d16bba-d4d1-405c-86f1-b0058aaca791",
   "metadata": {},
   "outputs": [
    {
     "name": "stdout",
     "output_type": "stream",
     "text": [
      "['pc1', 'pc2']\n"
     ]
    },
    {
     "data": {
      "image/png": "[encoded data removed]",
      "text/plain": [
       "<Figure size 360x360 with 4 Axes>"
      ]
     },
     "metadata": {
      "needs_background": "light"
     },
     "output_type": "display_data"
    }
   ],
   "source": [
    "d = 2  #  1  ,  2\n",
    "\n",
    "col_names = ['pc%d'%(col+1) for col in range(d)]\n",
    "print(col_names)\n",
    "\n",
    "pca = PCA(n_components=d)\n",
    "pca.fit(X_scl)\n",
    "X_pca = pd.DataFrame(pca.transform(X_scl), columns=col_names)\n",
    "\n",
    "spm = pd.plotting.scatter_matrix(X_pca, c=Y_color, figsize=(5, 5), marker='.',\n",
    "                                 hist_kwds={'bins': 20}, s=60, alpha=.1)"
   ]
  },
  {
   "cell_type": "code",
   "execution_count": 5,
   "id": "09cfecbc-dae2-4310-9e63-0bca69831ff8",
   "metadata": {},
   "outputs": [
    {
     "data": {
      "text/plain": [
       "{'n_components': 2,\n",
       " 'copy': True,\n",
       " 'whiten': False,\n",
       " 'svd_solver': 'auto',\n",
       " 'tol': 0.0,\n",
       " 'iterated_power': 'auto',\n",
       " 'n_oversamples': 10,\n",
       " 'power_iteration_normalizer': 'auto',\n",
       " 'random_state': None,\n",
       " 'feature_names_in_': array(['feat.1_1', 'feat.1_2'], dtype=object),\n",
       " 'n_features_in_': 2,\n",
       " '_fit_svd_solver': 'covariance_eigh',\n",
       " 'mean_': array([ 3.90408097e-18, -1.17122429e-16]),\n",
       " 'noise_variance_': 0.0,\n",
       " 'n_samples_': 455,\n",
       " 'n_components_': 2,\n",
       " 'components_': array([[ 0.70710678,  0.70710678],\n",
       "        [ 0.70710678, -0.70710678]]),\n",
       " 'explained_variance_': array([1.6786095 , 0.32579578]),\n",
       " 'explained_variance_ratio_': array([0.83746013, 0.16253987]),\n",
       " 'singular_values_': array([27.60595432, 12.16187839])}"
      ]
     },
     "execution_count": 5,
     "metadata": {},
     "output_type": "execute_result"
    }
   ],
   "source": [
    "pca.__dict__"
   ]
  },
  {
   "cell_type": "code",
   "execution_count": 6,
   "id": "11980844-9b3b-4356-987a-dd9a09107b08",
   "metadata": {},
   "outputs": [
    {
     "data": {
      "image/png": "[encoded data removed]",
      "text/plain": [
       "<Figure size 432x288 with 1 Axes>"
      ]
     },
     "metadata": {
      "needs_background": "light"
     },
     "output_type": "display_data"
    }
   ],
   "source": [
    "plt.stem(np.cumsum(pca.explained_variance_ratio_),'r')\n",
    "plt.stem(pca.explained_variance_ratio_,'xb')\n",
    "plt.show()"
   ]
  },
  {
   "cell_type": "markdown",
   "id": "914fb43a-ddb4-4899-b495-46a8aa6a7da1",
   "metadata": {
    "tags": []
   },
   "source": [
    "## 2. PCA con $D \\gg 2~$ y $~d<D$\n",
    "\n",
    "Ahora el espacio donde viven los ejemplos es multidimensional y por tanto la utilidad de PCA se aprecia más."
   ]
  },
  {
   "cell_type": "code",
   "execution_count": 7,
   "id": "3a345fd5-0d18-4cc8-bd15-2b67251469d4",
   "metadata": {
    "tags": []
   },
   "outputs": [
    {
     "data": {
      "text/html": [
       "<div>\n",
       "<style scoped>\n",
       "    .dataframe tbody tr th:only-of-type {\n",
       "        vertical-align: middle;\n",
       "    }\n",
       "\n",
       "    .dataframe tbody tr th {\n",
       "        vertical-align: top;\n",
       "    }\n",
       "\n",
       "    .dataframe thead th {\n",
       "        text-align: right;\n",
       "    }\n",
       "</style>\n",
       "<table border=\"1\" class=\"dataframe\">\n",
       "  <thead>\n",
       "    <tr style=\"text-align: right;\">\n",
       "      <th></th>\n",
       "      <th>pc0</th>\n",
       "      <th>pc1</th>\n",
       "      <th>pc2</th>\n",
       "      <th>pc3</th>\n",
       "      <th>pc4</th>\n",
       "      <th>pc5</th>\n",
       "    </tr>\n",
       "  </thead>\n",
       "  <tbody>\n",
       "    <tr>\n",
       "      <th>0</th>\n",
       "      <td>-1.936025</td>\n",
       "      <td>1.488148</td>\n",
       "      <td>-1.181038</td>\n",
       "      <td>-1.695616</td>\n",
       "      <td>-0.591052</td>\n",
       "      <td>0.579397</td>\n",
       "    </tr>\n",
       "    <tr>\n",
       "      <th>1</th>\n",
       "      <td>-0.344095</td>\n",
       "      <td>0.096515</td>\n",
       "      <td>-2.025872</td>\n",
       "      <td>-0.695943</td>\n",
       "      <td>0.960279</td>\n",
       "      <td>-0.995863</td>\n",
       "    </tr>\n",
       "    <tr>\n",
       "      <th>2</th>\n",
       "      <td>9.346395</td>\n",
       "      <td>2.032042</td>\n",
       "      <td>-1.001234</td>\n",
       "      <td>-3.792418</td>\n",
       "      <td>-0.873322</td>\n",
       "      <td>1.575496</td>\n",
       "    </tr>\n",
       "    <tr>\n",
       "      <th>3</th>\n",
       "      <td>-1.981702</td>\n",
       "      <td>-0.978597</td>\n",
       "      <td>3.093410</td>\n",
       "      <td>2.472968</td>\n",
       "      <td>-1.593153</td>\n",
       "      <td>0.267093</td>\n",
       "    </tr>\n",
       "    <tr>\n",
       "      <th>4</th>\n",
       "      <td>-0.456089</td>\n",
       "      <td>2.319834</td>\n",
       "      <td>0.745482</td>\n",
       "      <td>0.373976</td>\n",
       "      <td>0.010070</td>\n",
       "      <td>0.870435</td>\n",
       "    </tr>\n",
       "    <tr>\n",
       "      <th>...</th>\n",
       "      <td>...</td>\n",
       "      <td>...</td>\n",
       "      <td>...</td>\n",
       "      <td>...</td>\n",
       "      <td>...</td>\n",
       "      <td>...</td>\n",
       "    </tr>\n",
       "    <tr>\n",
       "      <th>450</th>\n",
       "      <td>2.205299</td>\n",
       "      <td>0.239129</td>\n",
       "      <td>1.160752</td>\n",
       "      <td>1.273369</td>\n",
       "      <td>-0.850018</td>\n",
       "      <td>-1.547043</td>\n",
       "    </tr>\n",
       "    <tr>\n",
       "      <th>451</th>\n",
       "      <td>10.458106</td>\n",
       "      <td>1.678768</td>\n",
       "      <td>-1.398233</td>\n",
       "      <td>2.304044</td>\n",
       "      <td>-0.504169</td>\n",
       "      <td>0.865022</td>\n",
       "    </tr>\n",
       "    <tr>\n",
       "      <th>452</th>\n",
       "      <td>2.207512</td>\n",
       "      <td>5.078069</td>\n",
       "      <td>-1.015559</td>\n",
       "      <td>-0.801110</td>\n",
       "      <td>-2.326343</td>\n",
       "      <td>5.363856</td>\n",
       "    </tr>\n",
       "    <tr>\n",
       "      <th>453</th>\n",
       "      <td>7.496469</td>\n",
       "      <td>-3.668569</td>\n",
       "      <td>0.086403</td>\n",
       "      <td>-1.346524</td>\n",
       "      <td>0.293750</td>\n",
       "      <td>-0.302415</td>\n",
       "    </tr>\n",
       "    <tr>\n",
       "      <th>454</th>\n",
       "      <td>-0.368080</td>\n",
       "      <td>-1.444318</td>\n",
       "      <td>0.120220</td>\n",
       "      <td>1.890891</td>\n",
       "      <td>-0.332320</td>\n",
       "      <td>-0.469652</td>\n",
       "    </tr>\n",
       "  </tbody>\n",
       "</table>\n",
       "<p>455 rows × 6 columns</p>\n",
       "</div>"
      ],
      "text/plain": [
       "           pc0       pc1       pc2       pc3       pc4       pc5\n",
       "0    -1.936025  1.488148 -1.181038 -1.695616 -0.591052  0.579397\n",
       "1    -0.344095  0.096515 -2.025872 -0.695943  0.960279 -0.995863\n",
       "2     9.346395  2.032042 -1.001234 -3.792418 -0.873322  1.575496\n",
       "3    -1.981702 -0.978597  3.093410  2.472968 -1.593153  0.267093\n",
       "4    -0.456089  2.319834  0.745482  0.373976  0.010070  0.870435\n",
       "..         ...       ...       ...       ...       ...       ...\n",
       "450   2.205299  0.239129  1.160752  1.273369 -0.850018 -1.547043\n",
       "451  10.458106  1.678768 -1.398233  2.304044 -0.504169  0.865022\n",
       "452   2.207512  5.078069 -1.015559 -0.801110 -2.326343  5.363856\n",
       "453   7.496469 -3.668569  0.086403 -1.346524  0.293750 -0.302415\n",
       "454  -0.368080 -1.444318  0.120220  1.890891 -0.332320 -0.469652\n",
       "\n",
       "[455 rows x 6 columns]"
      ]
     },
     "execution_count": 7,
     "metadata": {},
     "output_type": "execute_result"
    }
   ],
   "source": [
    "n_components = 6\n",
    "\n",
    "cols_idx = range(0,30) #<-- select two columns (or just put the names in 'cols' and comment this line)\n",
    "cols  = X_init.columns[cols_idx] \n",
    "X_sel = X_init[cols] \n",
    "\n",
    "std_scaler  = StandardScaler().set_output(transform=\"pandas\")    \n",
    "std_scaler.fit(X_sel)\n",
    "X_scl = std_scaler.transform(X_sel)\n",
    "\n",
    "pca = PCA(n_components = n_components)\n",
    "pca.fit(X_scl)\n",
    "\n",
    "X_pca = pd.DataFrame(pca.transform(X_scl))\n",
    "col_names = ['pc%s'%col for col in X_pca.columns]\n",
    "X_pca.columns=col_names\n",
    "X_pca"
   ]
  },
  {
   "cell_type": "code",
   "execution_count": 8,
   "id": "8a2077cb-77a2-48fc-b1ae-022cb6a2ee15",
   "metadata": {
    "tags": []
   },
   "outputs": [
    {
     "data": {
      "text/plain": [
       "{'n_components': 6,\n",
       " 'copy': True,\n",
       " 'whiten': False,\n",
       " 'svd_solver': 'auto',\n",
       " 'tol': 0.0,\n",
       " 'iterated_power': 'auto',\n",
       " 'n_oversamples': 10,\n",
       " 'power_iteration_normalizer': 'auto',\n",
       " 'random_state': None,\n",
       " 'feature_names_in_': array(['feat.1_1', 'feat.2_1', 'feat.3_1', 'feat.4_1', 'feat.5_1',\n",
       "        'feat.6_1', 'feat.7_1', 'feat.8_1', 'feat.9_1', 'feat.10_1',\n",
       "        'feat.1_2', 'feat.2_2', 'feat.3_2', 'feat.4_2', 'feat.5_2',\n",
       "        'feat.6_2', 'feat.7_2', 'feat.8_2', 'feat.9_2', 'feat.10_2',\n",
       "        'feat.1_3', 'feat.2_3', 'feat.3_3', 'feat.4_3', 'feat.5_3',\n",
       "        'feat.6_3', 'feat.7_3', 'feat.8_3', 'feat.9_3', 'feat.10_3'],\n",
       "       dtype=object),\n",
       " 'n_features_in_': 30,\n",
       " '_fit_svd_solver': 'covariance_eigh',\n",
       " 'mean_': array([ 3.90408097e-18, -1.56163239e-17,  1.87395886e-16, -1.67875482e-16,\n",
       "         5.03626445e-16,  1.79587724e-16, -1.24930591e-16,  1.56163239e-16,\n",
       "        -5.46571335e-17, -1.69827522e-15, -1.17122429e-16, -1.07362227e-16,\n",
       "        -1.63971401e-16, -6.24652955e-17,  2.17652514e-16,  2.34244858e-16,\n",
       "         1.63971401e-16, -2.16676494e-16, -3.89432076e-16, -4.29448906e-17,\n",
       "         1.87395886e-16,  7.80816193e-18,  1.56163239e-17,  4.29448906e-17,\n",
       "        -3.63079530e-16, -8.58897812e-17,  1.01506105e-16,  0.00000000e+00,\n",
       "         5.03626445e-16, -5.07530526e-17]),\n",
       " 'noise_variance_': 0.14052105984370328,\n",
       " 'n_samples_': 455,\n",
       " 'n_components_': 6,\n",
       " 'components_': array([[ 2.18488997e-01,  1.09098091e-01,  2.27126005e-01,\n",
       "          2.21087032e-01,  1.38288391e-01,  2.37986067e-01,\n",
       "          2.57274543e-01,  2.61046467e-01,  1.28806178e-01,\n",
       "          6.41596936e-02,  2.08861092e-01,  7.98828419e-03,\n",
       "          2.15362487e-01,  2.09589149e-01,  1.55940274e-02,\n",
       "          1.69254071e-01,  1.45057549e-01,  1.82197723e-01,\n",
       "          1.49858637e-02,  1.00724111e-01,  2.28339464e-01,\n",
       "          1.10998586e-01,  2.36650977e-01,  2.25697085e-01,\n",
       "          1.31283472e-01,  2.10953107e-01,  2.28198133e-01,\n",
       "          2.52835926e-01,  1.17047235e-01,  1.36959429e-01],\n",
       "        [-2.29733914e-01, -6.83297517e-02, -2.11884252e-01,\n",
       "         -2.26496823e-01,  1.93029669e-01,  1.54874170e-01,\n",
       "          6.75045843e-02, -2.96878937e-02,  2.03256283e-01,\n",
       "          3.61315442e-01, -9.90913413e-02,  7.70765756e-02,\n",
       "         -8.93308980e-02, -1.47738824e-01,  2.00016077e-01,\n",
       "          2.33356494e-01,  1.98727117e-01,  1.34223173e-01,\n",
       "          1.97498101e-01,  2.76997124e-01, -2.18378009e-01,\n",
       "         -5.61452641e-02, -2.00349694e-01, -2.17317124e-01,\n",
       "          1.72161922e-01,  1.42304072e-01,  1.01049703e-01,\n",
       "         -4.40388963e-03,  1.52251146e-01,  2.70245032e-01],\n",
       "        [-1.21095088e-02,  1.00068242e-01, -1.32940682e-02,\n",
       "          2.09261159e-02, -1.20857514e-01, -7.63625276e-02,\n",
       "          1.42376211e-02, -2.22137522e-02, -5.48348141e-02,\n",
       "         -3.03717652e-02,  2.58139931e-01,  3.93150898e-01,\n",
       "          2.49175044e-01,  1.94248686e-01,  3.03014907e-01,\n",
       "          1.66334644e-01,  1.93952023e-01,  2.32516498e-01,\n",
       "          2.67990347e-01,  2.28141700e-01, -4.25129817e-02,\n",
       "         -4.99920003e-03, -4.34857959e-02, -5.46379995e-03,\n",
       "         -2.62211338e-01, -2.29257659e-01, -1.57062060e-01,\n",
       "         -1.62622312e-01, -2.86386655e-01, -2.23392737e-01],\n",
       "        [-4.53806351e-02,  5.73933682e-01, -4.43827240e-02,\n",
       "         -5.75076786e-02, -1.90534576e-01, -1.38553759e-02,\n",
       "          9.06603525e-04, -7.18589766e-02, -1.34056134e-01,\n",
       "         -2.63940961e-02, -1.33799186e-01,  3.15117283e-01,\n",
       "         -1.16028586e-01, -1.23947656e-01, -8.84316087e-02,\n",
       "          5.71951937e-02,  3.18747987e-02, -8.27774920e-02,\n",
       "         -1.13750890e-01,  7.98368521e-03, -2.69554456e-02,\n",
       "          6.10079861e-01, -2.22962372e-02, -4.00655314e-02,\n",
       "         -3.83333065e-02,  1.33685157e-01,  1.18798806e-01,\n",
       "          8.73430091e-03, -4.89745540e-03,  1.27928920e-01],\n",
       "        [ 4.65599819e-02, -1.47968845e-01,  4.63699777e-02,\n",
       "          2.17698521e-02, -3.32354099e-01,  8.53012430e-03,\n",
       "          1.03045727e-01, -3.54282644e-02, -3.06074991e-01,\n",
       "         -3.48072849e-02, -1.56604001e-01, -2.47487393e-01,\n",
       "         -1.23841426e-01, -1.18238160e-01, -2.32992583e-01,\n",
       "          2.58076223e-01,  3.55544314e-01,  1.92609708e-01,\n",
       "         -2.30887923e-01,  2.50985133e-01, -5.46889710e-03,\n",
       "         -1.82180394e-01,  5.73260237e-03, -2.90293225e-02,\n",
       "         -3.06985256e-01,  1.08786400e-01,  1.92844032e-01,\n",
       "          4.80888467e-02, -2.31338177e-01,  8.38584897e-02],\n",
       "        [ 1.23347511e-02, -9.02423695e-03,  7.91300451e-03,\n",
       "         -3.48271581e-03, -2.75970363e-01, -3.45376196e-02,\n",
       "         -2.03587695e-03, -5.35729630e-02,  3.21044450e-01,\n",
       "         -1.32480274e-01,  4.42964147e-03, -4.36160506e-04,\n",
       "          1.17937383e-02, -1.72620235e-02, -3.69743079e-01,\n",
       "          5.22512477e-02,  6.93332097e-02, -3.64925902e-02,\n",
       "          5.07302292e-01, -5.24026735e-02,  5.76344273e-03,\n",
       "         -1.80687886e-02,  7.69901987e-03, -1.29440218e-02,\n",
       "         -3.69751756e-01,  5.03925528e-02,  4.91703112e-02,\n",
       "         -1.90532102e-02,  4.96512748e-01, -5.96572942e-02]]),\n",
       " 'explained_variance_': array([13.25646563,  5.89643865,  2.74410717,  1.96995748,  1.64233236,\n",
       "         1.18427257]),\n",
       " 'explained_variance_ratio_': array([0.44091102, 0.19611598, 0.09126921, 0.06552093, 0.05462409,\n",
       "        0.03938899]),\n",
       " 'singular_values_': array([77.57857563, 51.73957041, 35.29624139, 29.90586391, 27.30602297,\n",
       "        23.18749114])}"
      ]
     },
     "execution_count": 8,
     "metadata": {},
     "output_type": "execute_result"
    }
   ],
   "source": [
    "pca.__dict__"
   ]
  },
  {
   "cell_type": "code",
   "execution_count": 9,
   "id": "71563b55-28dc-47c0-8948-e7872b919770",
   "metadata": {},
   "outputs": [
    {
     "data": {
      "image/png": "[encoded data removed]",
      "text/plain": [
       "<Figure size 432x288 with 1 Axes>"
      ]
     },
     "metadata": {
      "needs_background": "light"
     },
     "output_type": "display_data"
    }
   ],
   "source": [
    "plt.stem(np.cumsum(pca.explained_variance_ratio_),'r')\n",
    "plt.stem(pca.explained_variance_ratio_,'xb')\n",
    "plt.show()"
   ]
  }
 ],
 "metadata": {
  "kernelspec": {
   "display_name": "Python 3 (ipykernel)",
   "language": "python",
   "name": "python3"
  },
  "language_info": {
   "codemirror_mode": {
    "name": "ipython",
    "version": 3
   },
   "file_extension": ".py",
   "mimetype": "text/x-python",
   "name": "python",
   "nbconvert_exporter": "python",
   "pygments_lexer": "ipython3",
   "version": "3.9.7"
  }
 },
 "nbformat": 4,
 "nbformat_minor": 5
}
