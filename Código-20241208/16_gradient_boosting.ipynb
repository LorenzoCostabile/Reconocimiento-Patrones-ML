{
 "cells": [
  {
   "cell_type": "markdown",
   "id": "aa0f2c68-904b-4e36-ac81-1fe6432b083c",
   "metadata": {},
   "source": [
    "# Gradient Boosting\n",
    "\n",
    "---\n",
    "    [ES] Código de Alfredo Cuesta Infante para 'Reconocimiento de Patrones'\n",
    "       @ Master Universitario en Visión Artificial, 2023, URJC (España)\n",
    "    [EN] Code by Alfredo Cuesta-Infante for 'Pattern Recognition'\n",
    "       @ Master of Computer Vision, 2023, URJC (Spain)\n",
    "\n",
    "    alfredo.cuesta@urjc.es\n",
    "\t"
   ]
  },
  {
   "cell_type": "markdown",
   "id": "0e08f167-6fb6-470b-a0a0-93eacf901bea",
   "metadata": {
    "tags": []
   },
   "source": [
    "## Imports & carga de datos"
   ]
  },
  {
   "cell_type": "code",
   "execution_count": 1,
   "id": "3f504b67-7ebd-45c7-862f-46a42d6a7d9f",
   "metadata": {},
   "outputs": [],
   "source": [
    "import numpy as np\n",
    "import pandas as pd\n",
    "from sklearn.decomposition import PCA\n",
    "from sklearn.model_selection import train_test_split\n",
    "from sklearn.preprocessing import StandardScaler, MinMaxScaler, PolynomialFeatures\n",
    "from sklearn.manifold import LocallyLinearEmbedding, Isomap, TSNE\n",
    "from sklearn.pipeline import FeatureUnion, Pipeline\n",
    "from sklearn.preprocessing import FunctionTransformer\n",
    "from sklearn.base import BaseEstimator, TransformerMixin\n",
    "from sklearn.linear_model import LinearRegression, LogisticRegression, Perceptron\n",
    "from sklearn.svm import LinearSVC, NuSVC, LinearSVR, NuSVR, SVC\n",
    "from sklearn.tree import DecisionTreeClassifier, plot_tree\n",
    "from sklearn.naive_bayes import GaussianNB\n",
    "from sklearn.ensemble import AdaBoostClassifier, BaggingClassifier, RandomForestClassifier, VotingClassifier,  GradientBoostingClassifier\n",
    "from sklearn.metrics import confusion_matrix, precision_recall_curve, roc_curve\n",
    "import matplotlib.pyplot as plt\n",
    "\n",
    "#########################################################################\n",
    "\n",
    "pathStr = \"../datasets/0vs1/\"\n",
    "[file_X, file_Y] = [pathStr+'setX_0vs1.csv', pathStr+'setY_0vs1.csv']\n",
    "X_init = pd.read_csv(file_X, sep=';', header=None, dtype=int)\n",
    "Y_init = pd.read_csv(file_Y, sep=';', header=None, dtype=int)\n",
    "\n",
    "X_train_init, X_test_init, Y_train_init, Y_test_init = train_test_split(X_init, Y_init, test_size=0.33, random_state=1234)"
   ]
  },
  {
   "cell_type": "markdown",
   "id": "8648b2ff-196b-4ea0-8fad-a95bea694878",
   "metadata": {},
   "source": [
    "## Pipeline de transformación de datos"
   ]
  },
  {
   "cell_type": "markdown",
   "id": "7202edd1-5b6a-47c0-8ffe-9f2d7d6f96d1",
   "metadata": {
    "jp-MarkdownHeadingCollapsed": true,
    "tags": []
   },
   "source": [
    "### Clases para empaquetar transformadores de datos"
   ]
  },
  {
   "cell_type": "code",
   "execution_count": 2,
   "id": "e2a02d5f-ba96-46eb-9df8-ba894269cf6b",
   "metadata": {},
   "outputs": [],
   "source": [
    "class Pixels_to_Unit(BaseEstimator, TransformerMixin):\n",
    "    def __init__(self):\n",
    "        pass\n",
    "\n",
    "    def fit(self, X, y=None):\n",
    "        return self\n",
    "\n",
    "    def transform(self, X):\n",
    "        return X/255.0\n",
    "\n",
    "\n",
    "class ExtractFeaturesTransformer(BaseEstimator, TransformerMixin):\n",
    "    def __init__(self, theta=0.1):\n",
    "        self.theta = theta\n",
    "\n",
    "    def fit(self, X, y=None):\n",
    "        return self # return fun_feat_extract(X, theta = self.theta)\n",
    "\n",
    "    def transform(self, X):\n",
    "        \n",
    "        def fun_feat_extract(data, theta=0.1):\n",
    "            # data: dataframe\n",
    "            # theta: parameter of the feature extraction\n",
    "            #\n",
    "            features = np.zeros([data.shape[0], 8]) #<- allocate memory with zeros\n",
    "            data = data.values.reshape([data.shape[0],28,28]) \n",
    "            #-> axis 0: id of instance, axis 1: width(cols) , axis 2: height(rows)\n",
    "            for k in range(data.shape[0]):\n",
    "                #..current image \n",
    "                x = data[k,:,:]\n",
    "                #--width feature\n",
    "                sum_cols = x.sum(axis=0) #<- axis0 of x, not of data!!\n",
    "                indc = np.argwhere(sum_cols > theta * sum_cols.max())\n",
    "                col_3maxs = np.argsort(sum_cols)[-3:] \n",
    "                features[k,0] = indc[-1] - indc[0]\n",
    "                features[k,1:4] = col_3maxs\n",
    "                #--width feature\n",
    "                sum_rows = x.sum(axis=1) #<- axis1 of x, not of data!!\n",
    "                indr = np.argwhere(sum_rows > theta * sum_rows.max())\n",
    "                features[k,4] = indr[-1] - indr[0]\n",
    "                row_3maxs = np.argsort(sum_rows)[-3:] \n",
    "                features[k,5:8] = row_3maxs\n",
    "            col_names = ['width','W_max1','W_max2','W_max3','height','H_max1','H_max2','H_max3']\n",
    "            return pd.DataFrame(features,columns = col_names)  \n",
    "    \n",
    "        return fun_feat_extract(X, theta = self.theta)   \n",
    "#---------------------------------------------------------------------------------------\n",
    "\n",
    "class FeatureAreaTransformer(BaseEstimator, TransformerMixin):\n",
    "    def __init__(self):\n",
    "        pass\n",
    "\n",
    "    def fit(self, X, y=None):\n",
    "        return self # return get_feat_area(X)\n",
    "\n",
    "    def transform(self, X):\n",
    "        \n",
    "        def get_feat_area(features):\n",
    "            values = features['width'] * features['height']\n",
    "            return pd.DataFrame({'area':values})\n",
    "        \n",
    "        return get_feat_area(X)\n",
    "    \n",
    "#---------------------------------------------------------------------------------------\n",
    "\n",
    "class FeatureWoverHTransformer(BaseEstimator, TransformerMixin):\n",
    "    def __init__(self):\n",
    "        pass\n",
    "\n",
    "    def fit(self, X, y=None):\n",
    "        return self # return get_feat_WoverH(X)\n",
    "\n",
    "    def transform(self, X):\n",
    "\n",
    "        def get_feat_WoverH(features):\n",
    "            values = features['width'] / features['height']\n",
    "            values = values.round(decimals=2)\n",
    "            return pd.DataFrame({'WoverH':values})  \n",
    "\n",
    "        return get_feat_WoverH(X) "
   ]
  },
  {
   "cell_type": "markdown",
   "id": "8377a0c0-1075-453a-87c2-f0dd8438e4c4",
   "metadata": {
    "jp-MarkdownHeadingCollapsed": true,
    "tags": []
   },
   "source": [
    "### Pipeline de transformación"
   ]
  },
  {
   "cell_type": "code",
   "execution_count": 3,
   "id": "c1576e87-50cf-4534-bb55-20cf721d900a",
   "metadata": {},
   "outputs": [],
   "source": [
    "preprocess = []    #--------------\n",
    "\n",
    "scaler1 = Pixels_to_Unit()\n",
    "preprocess.append(('scaler1', scaler1))\n",
    "\n",
    "theta = 0.05 #<-it ranges in [0,.5]\n",
    "extractor = ExtractFeaturesTransformer(theta=theta)\n",
    "preprocess.append( ('extractor', extractor) )\n",
    "pipe1 = Pipeline(preprocess)\n",
    "\n",
    "more_features = [] #--------------\n",
    "\n",
    "poly_degree = 2\n",
    "polyfeat = PolynomialFeatures(poly_degree).set_output(transform=\"pandas\")\n",
    "more_features.append( ('addPolyFeat', polyfeat) )\n",
    "              \n",
    "more_features.append( ('addArea', FeatureAreaTransformer()) )\n",
    "\n",
    "more_features.append( ('addWoverH', FeatureWoverHTransformer()) )\n",
    "\n",
    "pipe2 = FeatureUnion(more_features)\n",
    "\n",
    "LLEprocess = []  #--------------\n",
    "\n",
    "n_components = 2\n",
    "n_neighbors = 50\n",
    "random_state = 1234\n",
    "max_iter = 200\n",
    "LLEprocess.append((\n",
    "    'lle',\n",
    "     LocallyLinearEmbedding(n_neighbors=n_neighbors, n_components=n_components,\n",
    "                            max_iter=max_iter, random_state=random_state).set_output(transform='pandas') )\n",
    ")\n",
    "\n",
    "scaler2 = MinMaxScaler().set_output(transform='pandas')\n",
    "LLEprocess.append( ('scaler2', scaler2) )\n",
    "\n",
    "pipe3 = Pipeline(LLEprocess)\n",
    "\n",
    "pipe_Data = Pipeline([('pipe1',pipe1),('pipe2',pipe2),('pipe3',pipe3)])"
   ]
  },
  {
   "cell_type": "markdown",
   "id": "1107a250-2319-48d8-b62f-4c3b52ce17d6",
   "metadata": {
    "jp-MarkdownHeadingCollapsed": true,
    "tags": []
   },
   "source": [
    "### Aprendizaje de la transformación"
   ]
  },
  {
   "cell_type": "code",
   "execution_count": 4,
   "id": "75f3ac98-339b-40e3-b746-359db80dc404",
   "metadata": {},
   "outputs": [],
   "source": [
    "pipe_Data.fit(X_train_init)\n",
    "X_train_2D = pipe_Data.transform(X_train_init)"
   ]
  },
  {
   "cell_type": "markdown",
   "id": "2edf5334-6e48-4bbd-8729-aafb9b486d24",
   "metadata": {},
   "source": [
    "## Pipeline del modelo "
   ]
  },
  {
   "cell_type": "code",
   "execution_count": 5,
   "id": "9af11c44-9b4d-4d5d-a960-20e03caf9bc3",
   "metadata": {},
   "outputs": [],
   "source": [
    "max_depth = 1\n",
    "n_estimators = 100\n",
    "learning_rate= 1\n",
    "\n",
    "gb_clf = GradientBoostingClassifier(max_depth=max_depth,        \\\n",
    "                                    n_estimators=n_estimators,  \\\n",
    "                                    learning_rate=learning_rate)\n",
    "\n",
    "pipe_Clf = Pipeline([('gb_clf', gb_clf)])"
   ]
  },
  {
   "cell_type": "code",
   "execution_count": 6,
   "id": "97aa18c1-2486-4f12-a9c3-a5718b41929e",
   "metadata": {},
   "outputs": [
    {
     "data": {
      "text/html": [
       "<style>#sk-container-id-1 {color: black;}#sk-container-id-1 pre{padding: 0;}#sk-container-id-1 div.sk-toggleable {background-color: white;}#sk-container-id-1 label.sk-toggleable__label {cursor: pointer;display: block;width: 100%;margin-bottom: 0;padding: 0.3em;box-sizing: border-box;text-align: center;}#sk-container-id-1 label.sk-toggleable__label-arrow:before {content: \"▸\";float: left;margin-right: 0.25em;color: #696969;}#sk-container-id-1 label.sk-toggleable__label-arrow:hover:before {color: black;}#sk-container-id-1 div.sk-estimator:hover label.sk-toggleable__label-arrow:before {color: black;}#sk-container-id-1 div.sk-toggleable__content {max-height: 0;max-width: 0;overflow: hidden;text-align: left;background-color: #f0f8ff;}#sk-container-id-1 div.sk-toggleable__content pre {margin: 0.2em;color: black;border-radius: 0.25em;background-color: #f0f8ff;}#sk-container-id-1 input.sk-toggleable__control:checked~div.sk-toggleable__content {max-height: 200px;max-width: 100%;overflow: auto;}#sk-container-id-1 input.sk-toggleable__control:checked~label.sk-toggleable__label-arrow:before {content: \"▾\";}#sk-container-id-1 div.sk-estimator input.sk-toggleable__control:checked~label.sk-toggleable__label {background-color: #d4ebff;}#sk-container-id-1 div.sk-label input.sk-toggleable__control:checked~label.sk-toggleable__label {background-color: #d4ebff;}#sk-container-id-1 input.sk-hidden--visually {border: 0;clip: rect(1px 1px 1px 1px);clip: rect(1px, 1px, 1px, 1px);height: 1px;margin: -1px;overflow: hidden;padding: 0;position: absolute;width: 1px;}#sk-container-id-1 div.sk-estimator {font-family: monospace;background-color: #f0f8ff;border: 1px dotted black;border-radius: 0.25em;box-sizing: border-box;margin-bottom: 0.5em;}#sk-container-id-1 div.sk-estimator:hover {background-color: #d4ebff;}#sk-container-id-1 div.sk-parallel-item::after {content: \"\";width: 100%;border-bottom: 1px solid gray;flex-grow: 1;}#sk-container-id-1 div.sk-label:hover label.sk-toggleable__label {background-color: #d4ebff;}#sk-container-id-1 div.sk-serial::before {content: \"\";position: absolute;border-left: 1px solid gray;box-sizing: border-box;top: 0;bottom: 0;left: 50%;z-index: 0;}#sk-container-id-1 div.sk-serial {display: flex;flex-direction: column;align-items: center;background-color: white;padding-right: 0.2em;padding-left: 0.2em;position: relative;}#sk-container-id-1 div.sk-item {position: relative;z-index: 1;}#sk-container-id-1 div.sk-parallel {display: flex;align-items: stretch;justify-content: center;background-color: white;position: relative;}#sk-container-id-1 div.sk-item::before, #sk-container-id-1 div.sk-parallel-item::before {content: \"\";position: absolute;border-left: 1px solid gray;box-sizing: border-box;top: 0;bottom: 0;left: 50%;z-index: -1;}#sk-container-id-1 div.sk-parallel-item {display: flex;flex-direction: column;z-index: 1;position: relative;background-color: white;}#sk-container-id-1 div.sk-parallel-item:first-child::after {align-self: flex-end;width: 50%;}#sk-container-id-1 div.sk-parallel-item:last-child::after {align-self: flex-start;width: 50%;}#sk-container-id-1 div.sk-parallel-item:only-child::after {width: 0;}#sk-container-id-1 div.sk-dashed-wrapped {border: 1px dashed gray;margin: 0 0.4em 0.5em 0.4em;box-sizing: border-box;padding-bottom: 0.4em;background-color: white;}#sk-container-id-1 div.sk-label label {font-family: monospace;font-weight: bold;display: inline-block;line-height: 1.2em;}#sk-container-id-1 div.sk-label-container {text-align: center;}#sk-container-id-1 div.sk-container {/* jupyter's `normalize.less` sets `[hidden] { display: none; }` but bootstrap.min.css set `[hidden] { display: none !important; }` so we also need the `!important` here to be able to override the default hidden behavior on the sphinx rendered scikit-learn.org. See: https://github.com/scikit-learn/scikit-learn/issues/21755 */display: inline-block !important;position: relative;}#sk-container-id-1 div.sk-text-repr-fallback {display: none;}</style><div id=\"sk-container-id-1\" class=\"sk-top-container\"><div class=\"sk-text-repr-fallback\"><pre>Pipeline(steps=[(&#x27;gb_clf&#x27;,\n",
       "                 GradientBoostingClassifier(learning_rate=1, max_depth=1))])</pre><b>In a Jupyter environment, please rerun this cell to show the HTML representation or trust the notebook. <br />On GitHub, the HTML representation is unable to render, please try loading this page with nbviewer.org.</b></div><div class=\"sk-container\" hidden><div class=\"sk-item sk-dashed-wrapped\"><div class=\"sk-label-container\"><div class=\"sk-label sk-toggleable\"><input class=\"sk-toggleable__control sk-hidden--visually\" id=\"sk-estimator-id-1\" type=\"checkbox\" ><label for=\"sk-estimator-id-1\" class=\"sk-toggleable__label sk-toggleable__label-arrow\">Pipeline</label><div class=\"sk-toggleable__content\"><pre>Pipeline(steps=[(&#x27;gb_clf&#x27;,\n",
       "                 GradientBoostingClassifier(learning_rate=1, max_depth=1))])</pre></div></div></div><div class=\"sk-serial\"><div class=\"sk-item\"><div class=\"sk-estimator sk-toggleable\"><input class=\"sk-toggleable__control sk-hidden--visually\" id=\"sk-estimator-id-2\" type=\"checkbox\" ><label for=\"sk-estimator-id-2\" class=\"sk-toggleable__label sk-toggleable__label-arrow\">GradientBoostingClassifier</label><div class=\"sk-toggleable__content\"><pre>GradientBoostingClassifier(learning_rate=1, max_depth=1)</pre></div></div></div></div></div></div></div>"
      ],
      "text/plain": [
       "Pipeline(steps=[('gb_clf',\n",
       "                 GradientBoostingClassifier(learning_rate=1, max_depth=1))])"
      ]
     },
     "execution_count": 6,
     "metadata": {},
     "output_type": "execute_result"
    }
   ],
   "source": [
    "pipe_Clf"
   ]
  },
  {
   "cell_type": "code",
   "execution_count": 7,
   "id": "c4d094ba-33d0-4aa9-b537-a848824a0966",
   "metadata": {},
   "outputs": [
    {
     "name": "stderr",
     "output_type": "stream",
     "text": [
      "C:\\Users\\alfredo.cuesta\\AppData\\Roaming\\Python\\Python39\\site-packages\\sklearn\\ensemble\\_gb.py:424: DataConversionWarning: A column-vector y was passed when a 1d array was expected. Please change the shape of y to (n_samples, ), for example using ravel().\n",
      "  y = column_or_1d(y, warn=True)\n"
     ]
    }
   ],
   "source": [
    "pipe_Clf.fit(X_train_2D, Y_train_init)\n",
    "y_hat= pipe_Clf.predict(X_train_2D)"
   ]
  },
  {
   "cell_type": "markdown",
   "id": "268a91c9-dc03-42f9-af29-9cce7a1a0d9b",
   "metadata": {},
   "source": [
    "## Visualización"
   ]
  },
  {
   "cell_type": "code",
   "execution_count": 8,
   "id": "d210ca9a-4127-4c6b-9b5b-00a31b864599",
   "metadata": {
    "tags": []
   },
   "outputs": [
    {
     "name": "stderr",
     "output_type": "stream",
     "text": [
      "C:\\Users\\alfredo.cuesta\\AppData\\Roaming\\Python\\Python39\\site-packages\\sklearn\\base.py:464: UserWarning: X does not have valid feature names, but GradientBoostingClassifier was fitted with feature names\n",
      "  warnings.warn(\n"
     ]
    },
    {
     "data": {
      "image/png": "[encoded data removed]",
      "text/plain": [
       "<Figure size 432x288 with 1 Axes>"
      ]
     },
     "metadata": {
      "needs_background": "light"
     },
     "output_type": "display_data"
    },
    {
     "name": "stdout",
     "output_type": "stream",
     "text": [
      "Confusion matrix:\n",
      "      0    1\n",
      "0  270   29\n",
      "1   32  339\n"
     ]
    }
   ],
   "source": [
    "ind0 = Y_train_init.isin([0]).values.ravel()\n",
    "ind1 = Y_train_init.isin([1]).values.ravel()\n",
    "ax = X_train_2D[ind0].plot(kind=\"scatter\", x=\"locallylinearembedding0\",y=\"locallylinearembedding1\",\n",
    "                           alpha=0.5, color='b',marker='o')\n",
    "ax = X_train_2D[ind1].plot(kind=\"scatter\", x=\"locallylinearembedding0\",y=\"locallylinearembedding1\",\n",
    "                           alpha=0.5, color='r',marker='x', ax=ax)\n",
    "\n",
    "Ns = 50\n",
    "rangeX0 = np.linspace(0, 1, Ns)\n",
    "rangeX1 = np.linspace(0, 1, Ns)\n",
    "[XX0, XX1] = np.meshgrid(rangeX0, rangeX1)\n",
    "X0 = np.expand_dims(XX0.ravel(), axis=0)\n",
    "X1 = np.expand_dims(XX1.ravel(), axis=0)\n",
    "X = np.vstack((X0,X1))\n",
    "y_backg = pipe_Clf.predict(X.T).reshape(Ns,Ns)\n",
    "ax.imshow(y_backg, extent=[0,1,0,1], alpha=0.2, origin='lower', cmap='cool')\n",
    "strTitle = \"Gradient Boosting con %d estimators, lr=%0.1f\"%(n_estimators, learning_rate)\n",
    "ax.set_title(strTitle)\n",
    "plt.rcParams['figure.figsize'] = [6,6]\n",
    "plt.show()\n",
    "print('Confusion matrix:\\n',pd.DataFrame(confusion_matrix(Y_train_init, y_hat)))"
   ]
  }
 ],
 "metadata": {
  "kernelspec": {
   "display_name": "Python 3 (ipykernel)",
   "language": "python",
   "name": "python3"
  },
  "language_info": {
   "codemirror_mode": {
    "name": "ipython",
    "version": 3
   },
   "file_extension": ".py",
   "mimetype": "text/x-python",
   "name": "python",
   "nbconvert_exporter": "python",
   "pygments_lexer": "ipython3",
   "version": "3.9.7"
  }
 },
 "nbformat": 4,
 "nbformat_minor": 5
}
